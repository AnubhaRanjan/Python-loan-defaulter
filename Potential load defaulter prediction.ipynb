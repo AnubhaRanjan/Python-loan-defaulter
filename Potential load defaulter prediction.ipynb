{
 "cells": [
  {
   "cell_type": "code",
   "execution_count": 7,
   "id": "17663288-1ad8-411b-a31f-4e27f23cf96d",
   "metadata": {},
   "outputs": [],
   "source": [
    "# Loading package - pandas - for mathematical calculations\n",
    "# Loading dataset file\n",
    "# Reading csv dataset"
   ]
  },
  {
   "cell_type": "code",
   "execution_count": 250,
   "id": "6e306b9f-9a2e-4be7-96ab-d7d1ad2ead7e",
   "metadata": {},
   "outputs": [],
   "source": [
    "import pandas as pd"
   ]
  },
  {
   "cell_type": "code",
   "execution_count": 251,
   "id": "10908007-9d8b-4fd8-be9b-107ed3b13ac6",
   "metadata": {},
   "outputs": [],
   "source": [
    "loan=pd.read_csv('loandata.csv')"
   ]
  },
  {
   "cell_type": "code",
   "execution_count": 42,
   "id": "30d3dbb2-af6f-4f93-9f79-d8679de000f1",
   "metadata": {},
   "outputs": [],
   "source": [
    "# Exploratory data analysis\n",
    "# load.head  To see 5 top records of data\n",
    "# loan.shape To see no of columns and rows\n",
    "# loan.describe() To see statistical values of quantitative variable\n",
    "# loan.columns To check variable names\n",
    "# loan.info() To Check basic info, data types\n",
    "# loan.isna().sum() To check count of null values\n",
    "# loan.duplicated().sum() To Check duplicate value"
   ]
  },
  {
   "cell_type": "code",
   "execution_count": 252,
   "id": "166da820-e7f8-49a8-97a7-e5b35d05623e",
   "metadata": {},
   "outputs": [
    {
     "data": {
      "text/plain": [
       "<bound method NDFrame.head of         UniqueID  disbursed_amount  asset_cost    ltv  branch_id  supplier_id  \\\n",
       "0         420825             50578       58400  89.55         67        22807   \n",
       "1         417566             53278       61360  89.63         67        22807   \n",
       "2         539055             52378       60300  88.39         67        22807   \n",
       "3         529269             46349       61500  76.42         67        22807   \n",
       "4         563215             43594       78256  57.50         67        22744   \n",
       "...          ...               ...         ...    ...        ...          ...   \n",
       "233149    561031             57759       76350  77.28          5        22289   \n",
       "233150    649600             55009       71200  78.72        138        17408   \n",
       "233151    603445             58513       68000  88.24        135        23313   \n",
       "233152    442948             22824       40458  61.79        160        16212   \n",
       "233153    545300             35299       72698  52.27          3        14573   \n",
       "\n",
       "        manufacturer_id  Current_pincode_ID Date.of.Birth Employment.Type  \\\n",
       "0                    45                1441      1/1/1984        Salaried   \n",
       "1                    45                1497     8/24/1985   Self employed   \n",
       "2                    45                1495     12/9/1977   Self employed   \n",
       "3                    45                1502      6/1/1988        Salaried   \n",
       "4                    86                1499     7/14/1994   Self employed   \n",
       "...                 ...                 ...           ...             ...   \n",
       "233149               51                3326    11/10/1981   Self employed   \n",
       "233150               51                3385    10/15/1992   Self employed   \n",
       "233151               45                1797    12/19/1981   Self employed   \n",
       "233152               48                  96     7/31/1989   Self employed   \n",
       "233153               45                  17      8/1/1968   Self employed   \n",
       "\n",
       "        ... SEC.SANCTIONED.AMOUNT  SEC.DISBURSED.AMOUNT  PRIMARY.INSTAL.AMT  \\\n",
       "0       ...                     0                     0                   0   \n",
       "1       ...                     0                     0                   0   \n",
       "2       ...                     0                     0                   0   \n",
       "3       ...                     0                     0                   0   \n",
       "4       ...                     0                     0                   0   \n",
       "...     ...                   ...                   ...                 ...   \n",
       "233149  ...                     0                     0                   0   \n",
       "233150  ...                     0                     0               15209   \n",
       "233151  ...                     0                     0              257948   \n",
       "233152  ...                     0                     0               26046   \n",
       "233153  ...                     0                     0              293886   \n",
       "\n",
       "        SEC.INSTAL.AMT  NEW.ACCTS.IN.LAST.SIX.MONTHS  \\\n",
       "0                    0                             0   \n",
       "1                    0                             0   \n",
       "2                    0                             0   \n",
       "3                    0                             0   \n",
       "4                    0                             0   \n",
       "...                ...                           ...   \n",
       "233149               0                             0   \n",
       "233150               0                             0   \n",
       "233151               0                            35   \n",
       "233152               0                             9   \n",
       "233153               0                             5   \n",
       "\n",
       "        DELINQUENT.ACCTS.IN.LAST.SIX.MONTHS  AVERAGE.ACCT.AGE  \\\n",
       "0                                         0         0yrs 0mon   \n",
       "1                                         0         0yrs 0mon   \n",
       "2                                         0         0yrs 0mon   \n",
       "3                                         0         0yrs 0mon   \n",
       "4                                         0         0yrs 0mon   \n",
       "...                                     ...               ...   \n",
       "233149                                    0         2yrs 4mon   \n",
       "233150                                    0         1yrs 5mon   \n",
       "233151                                    5         0yrs 9mon   \n",
       "233152                                    1         1yrs 2mon   \n",
       "233153                                    0        2yrs 11mon   \n",
       "\n",
       "        CREDIT.HISTORY.LENGTH  NO.OF_INQUIRIES  loan_default  \n",
       "0                   0yrs 0mon                0             0  \n",
       "1                   0yrs 0mon                0             0  \n",
       "2                   0yrs 0mon                1             1  \n",
       "3                   0yrs 0mon                0             0  \n",
       "4                   0yrs 0mon                0             0  \n",
       "...                       ...              ...           ...  \n",
       "233149              2yrs 4mon                0             0  \n",
       "233150              1yrs 5mon                1             0  \n",
       "233151             3yrs 10mon                1             0  \n",
       "233152              3yrs 2mon                0             0  \n",
       "233153              5yrs 4mon                0             0  \n",
       "\n",
       "[233154 rows x 41 columns]>"
      ]
     },
     "execution_count": 252,
     "metadata": {},
     "output_type": "execute_result"
    }
   ],
   "source": [
    "loan.head"
   ]
  },
  {
   "cell_type": "code",
   "execution_count": 253,
   "id": "462a9865-863b-429d-9961-8264c025befa",
   "metadata": {},
   "outputs": [
    {
     "data": {
      "text/plain": [
       "(233154, 41)"
      ]
     },
     "execution_count": 253,
     "metadata": {},
     "output_type": "execute_result"
    }
   ],
   "source": [
    "loan.shape"
   ]
  },
  {
   "cell_type": "code",
   "execution_count": 254,
   "id": "3c61f19a-d8d5-4c2d-9956-31169bc2f97d",
   "metadata": {},
   "outputs": [
    {
     "data": {
      "text/html": [
       "<div>\n",
       "<style scoped>\n",
       "    .dataframe tbody tr th:only-of-type {\n",
       "        vertical-align: middle;\n",
       "    }\n",
       "\n",
       "    .dataframe tbody tr th {\n",
       "        vertical-align: top;\n",
       "    }\n",
       "\n",
       "    .dataframe thead th {\n",
       "        text-align: right;\n",
       "    }\n",
       "</style>\n",
       "<table border=\"1\" class=\"dataframe\">\n",
       "  <thead>\n",
       "    <tr style=\"text-align: right;\">\n",
       "      <th></th>\n",
       "      <th>UniqueID</th>\n",
       "      <th>disbursed_amount</th>\n",
       "      <th>asset_cost</th>\n",
       "      <th>ltv</th>\n",
       "      <th>branch_id</th>\n",
       "      <th>supplier_id</th>\n",
       "      <th>manufacturer_id</th>\n",
       "      <th>Current_pincode_ID</th>\n",
       "      <th>State_ID</th>\n",
       "      <th>Employee_code_ID</th>\n",
       "      <th>...</th>\n",
       "      <th>SEC.OVERDUE.ACCTS</th>\n",
       "      <th>SEC.CURRENT.BALANCE</th>\n",
       "      <th>SEC.SANCTIONED.AMOUNT</th>\n",
       "      <th>SEC.DISBURSED.AMOUNT</th>\n",
       "      <th>PRIMARY.INSTAL.AMT</th>\n",
       "      <th>SEC.INSTAL.AMT</th>\n",
       "      <th>NEW.ACCTS.IN.LAST.SIX.MONTHS</th>\n",
       "      <th>DELINQUENT.ACCTS.IN.LAST.SIX.MONTHS</th>\n",
       "      <th>NO.OF_INQUIRIES</th>\n",
       "      <th>loan_default</th>\n",
       "    </tr>\n",
       "  </thead>\n",
       "  <tbody>\n",
       "    <tr>\n",
       "      <th>count</th>\n",
       "      <td>233154.000000</td>\n",
       "      <td>233154.000000</td>\n",
       "      <td>2.331540e+05</td>\n",
       "      <td>233154.000000</td>\n",
       "      <td>233154.000000</td>\n",
       "      <td>233154.000000</td>\n",
       "      <td>233154.000000</td>\n",
       "      <td>233154.000000</td>\n",
       "      <td>233154.000000</td>\n",
       "      <td>233154.000000</td>\n",
       "      <td>...</td>\n",
       "      <td>233154.000000</td>\n",
       "      <td>2.331540e+05</td>\n",
       "      <td>2.331540e+05</td>\n",
       "      <td>2.331540e+05</td>\n",
       "      <td>2.331540e+05</td>\n",
       "      <td>2.331540e+05</td>\n",
       "      <td>233154.000000</td>\n",
       "      <td>233154.000000</td>\n",
       "      <td>233154.000000</td>\n",
       "      <td>233154.000000</td>\n",
       "    </tr>\n",
       "    <tr>\n",
       "      <th>mean</th>\n",
       "      <td>535917.573376</td>\n",
       "      <td>54356.993528</td>\n",
       "      <td>7.586507e+04</td>\n",
       "      <td>74.746530</td>\n",
       "      <td>72.936094</td>\n",
       "      <td>19638.635035</td>\n",
       "      <td>69.028054</td>\n",
       "      <td>3396.880247</td>\n",
       "      <td>7.262243</td>\n",
       "      <td>1549.477148</td>\n",
       "      <td>...</td>\n",
       "      <td>0.007244</td>\n",
       "      <td>5.427793e+03</td>\n",
       "      <td>7.295923e+03</td>\n",
       "      <td>7.179998e+03</td>\n",
       "      <td>1.310548e+04</td>\n",
       "      <td>3.232684e+02</td>\n",
       "      <td>0.381833</td>\n",
       "      <td>0.097481</td>\n",
       "      <td>0.206615</td>\n",
       "      <td>0.217071</td>\n",
       "    </tr>\n",
       "    <tr>\n",
       "      <th>std</th>\n",
       "      <td>68315.693711</td>\n",
       "      <td>12971.314171</td>\n",
       "      <td>1.894478e+04</td>\n",
       "      <td>11.456636</td>\n",
       "      <td>69.834995</td>\n",
       "      <td>3491.949566</td>\n",
       "      <td>22.141304</td>\n",
       "      <td>2238.147502</td>\n",
       "      <td>4.482230</td>\n",
       "      <td>975.261278</td>\n",
       "      <td>...</td>\n",
       "      <td>0.111079</td>\n",
       "      <td>1.702370e+05</td>\n",
       "      <td>1.831560e+05</td>\n",
       "      <td>1.825925e+05</td>\n",
       "      <td>1.513679e+05</td>\n",
       "      <td>1.555369e+04</td>\n",
       "      <td>0.955107</td>\n",
       "      <td>0.384439</td>\n",
       "      <td>0.706498</td>\n",
       "      <td>0.412252</td>\n",
       "    </tr>\n",
       "    <tr>\n",
       "      <th>min</th>\n",
       "      <td>417428.000000</td>\n",
       "      <td>13320.000000</td>\n",
       "      <td>3.700000e+04</td>\n",
       "      <td>10.030000</td>\n",
       "      <td>1.000000</td>\n",
       "      <td>10524.000000</td>\n",
       "      <td>45.000000</td>\n",
       "      <td>1.000000</td>\n",
       "      <td>1.000000</td>\n",
       "      <td>1.000000</td>\n",
       "      <td>...</td>\n",
       "      <td>0.000000</td>\n",
       "      <td>-5.746470e+05</td>\n",
       "      <td>0.000000e+00</td>\n",
       "      <td>0.000000e+00</td>\n",
       "      <td>0.000000e+00</td>\n",
       "      <td>0.000000e+00</td>\n",
       "      <td>0.000000</td>\n",
       "      <td>0.000000</td>\n",
       "      <td>0.000000</td>\n",
       "      <td>0.000000</td>\n",
       "    </tr>\n",
       "    <tr>\n",
       "      <th>25%</th>\n",
       "      <td>476786.250000</td>\n",
       "      <td>47145.000000</td>\n",
       "      <td>6.571700e+04</td>\n",
       "      <td>68.880000</td>\n",
       "      <td>14.000000</td>\n",
       "      <td>16535.000000</td>\n",
       "      <td>48.000000</td>\n",
       "      <td>1511.000000</td>\n",
       "      <td>4.000000</td>\n",
       "      <td>713.000000</td>\n",
       "      <td>...</td>\n",
       "      <td>0.000000</td>\n",
       "      <td>0.000000e+00</td>\n",
       "      <td>0.000000e+00</td>\n",
       "      <td>0.000000e+00</td>\n",
       "      <td>0.000000e+00</td>\n",
       "      <td>0.000000e+00</td>\n",
       "      <td>0.000000</td>\n",
       "      <td>0.000000</td>\n",
       "      <td>0.000000</td>\n",
       "      <td>0.000000</td>\n",
       "    </tr>\n",
       "    <tr>\n",
       "      <th>50%</th>\n",
       "      <td>535978.500000</td>\n",
       "      <td>53803.000000</td>\n",
       "      <td>7.094600e+04</td>\n",
       "      <td>76.800000</td>\n",
       "      <td>61.000000</td>\n",
       "      <td>20333.000000</td>\n",
       "      <td>86.000000</td>\n",
       "      <td>2970.000000</td>\n",
       "      <td>6.000000</td>\n",
       "      <td>1451.000000</td>\n",
       "      <td>...</td>\n",
       "      <td>0.000000</td>\n",
       "      <td>0.000000e+00</td>\n",
       "      <td>0.000000e+00</td>\n",
       "      <td>0.000000e+00</td>\n",
       "      <td>0.000000e+00</td>\n",
       "      <td>0.000000e+00</td>\n",
       "      <td>0.000000</td>\n",
       "      <td>0.000000</td>\n",
       "      <td>0.000000</td>\n",
       "      <td>0.000000</td>\n",
       "    </tr>\n",
       "    <tr>\n",
       "      <th>75%</th>\n",
       "      <td>595039.750000</td>\n",
       "      <td>60413.000000</td>\n",
       "      <td>7.920175e+04</td>\n",
       "      <td>83.670000</td>\n",
       "      <td>130.000000</td>\n",
       "      <td>23000.000000</td>\n",
       "      <td>86.000000</td>\n",
       "      <td>5677.000000</td>\n",
       "      <td>10.000000</td>\n",
       "      <td>2362.000000</td>\n",
       "      <td>...</td>\n",
       "      <td>0.000000</td>\n",
       "      <td>0.000000e+00</td>\n",
       "      <td>0.000000e+00</td>\n",
       "      <td>0.000000e+00</td>\n",
       "      <td>1.999000e+03</td>\n",
       "      <td>0.000000e+00</td>\n",
       "      <td>0.000000</td>\n",
       "      <td>0.000000</td>\n",
       "      <td>0.000000</td>\n",
       "      <td>0.000000</td>\n",
       "    </tr>\n",
       "    <tr>\n",
       "      <th>max</th>\n",
       "      <td>671084.000000</td>\n",
       "      <td>990572.000000</td>\n",
       "      <td>1.628992e+06</td>\n",
       "      <td>95.000000</td>\n",
       "      <td>261.000000</td>\n",
       "      <td>24803.000000</td>\n",
       "      <td>156.000000</td>\n",
       "      <td>7345.000000</td>\n",
       "      <td>22.000000</td>\n",
       "      <td>3795.000000</td>\n",
       "      <td>...</td>\n",
       "      <td>8.000000</td>\n",
       "      <td>3.603285e+07</td>\n",
       "      <td>3.000000e+07</td>\n",
       "      <td>3.000000e+07</td>\n",
       "      <td>2.564281e+07</td>\n",
       "      <td>4.170901e+06</td>\n",
       "      <td>35.000000</td>\n",
       "      <td>20.000000</td>\n",
       "      <td>36.000000</td>\n",
       "      <td>1.000000</td>\n",
       "    </tr>\n",
       "  </tbody>\n",
       "</table>\n",
       "<p>8 rows × 35 columns</p>\n",
       "</div>"
      ],
      "text/plain": [
       "            UniqueID  disbursed_amount    asset_cost            ltv  \\\n",
       "count  233154.000000     233154.000000  2.331540e+05  233154.000000   \n",
       "mean   535917.573376      54356.993528  7.586507e+04      74.746530   \n",
       "std     68315.693711      12971.314171  1.894478e+04      11.456636   \n",
       "min    417428.000000      13320.000000  3.700000e+04      10.030000   \n",
       "25%    476786.250000      47145.000000  6.571700e+04      68.880000   \n",
       "50%    535978.500000      53803.000000  7.094600e+04      76.800000   \n",
       "75%    595039.750000      60413.000000  7.920175e+04      83.670000   \n",
       "max    671084.000000     990572.000000  1.628992e+06      95.000000   \n",
       "\n",
       "           branch_id    supplier_id  manufacturer_id  Current_pincode_ID  \\\n",
       "count  233154.000000  233154.000000    233154.000000       233154.000000   \n",
       "mean       72.936094   19638.635035        69.028054         3396.880247   \n",
       "std        69.834995    3491.949566        22.141304         2238.147502   \n",
       "min         1.000000   10524.000000        45.000000            1.000000   \n",
       "25%        14.000000   16535.000000        48.000000         1511.000000   \n",
       "50%        61.000000   20333.000000        86.000000         2970.000000   \n",
       "75%       130.000000   23000.000000        86.000000         5677.000000   \n",
       "max       261.000000   24803.000000       156.000000         7345.000000   \n",
       "\n",
       "            State_ID  Employee_code_ID  ...  SEC.OVERDUE.ACCTS  \\\n",
       "count  233154.000000     233154.000000  ...      233154.000000   \n",
       "mean        7.262243       1549.477148  ...           0.007244   \n",
       "std         4.482230        975.261278  ...           0.111079   \n",
       "min         1.000000          1.000000  ...           0.000000   \n",
       "25%         4.000000        713.000000  ...           0.000000   \n",
       "50%         6.000000       1451.000000  ...           0.000000   \n",
       "75%        10.000000       2362.000000  ...           0.000000   \n",
       "max        22.000000       3795.000000  ...           8.000000   \n",
       "\n",
       "       SEC.CURRENT.BALANCE  SEC.SANCTIONED.AMOUNT  SEC.DISBURSED.AMOUNT  \\\n",
       "count         2.331540e+05           2.331540e+05          2.331540e+05   \n",
       "mean          5.427793e+03           7.295923e+03          7.179998e+03   \n",
       "std           1.702370e+05           1.831560e+05          1.825925e+05   \n",
       "min          -5.746470e+05           0.000000e+00          0.000000e+00   \n",
       "25%           0.000000e+00           0.000000e+00          0.000000e+00   \n",
       "50%           0.000000e+00           0.000000e+00          0.000000e+00   \n",
       "75%           0.000000e+00           0.000000e+00          0.000000e+00   \n",
       "max           3.603285e+07           3.000000e+07          3.000000e+07   \n",
       "\n",
       "       PRIMARY.INSTAL.AMT  SEC.INSTAL.AMT  NEW.ACCTS.IN.LAST.SIX.MONTHS  \\\n",
       "count        2.331540e+05    2.331540e+05                 233154.000000   \n",
       "mean         1.310548e+04    3.232684e+02                      0.381833   \n",
       "std          1.513679e+05    1.555369e+04                      0.955107   \n",
       "min          0.000000e+00    0.000000e+00                      0.000000   \n",
       "25%          0.000000e+00    0.000000e+00                      0.000000   \n",
       "50%          0.000000e+00    0.000000e+00                      0.000000   \n",
       "75%          1.999000e+03    0.000000e+00                      0.000000   \n",
       "max          2.564281e+07    4.170901e+06                     35.000000   \n",
       "\n",
       "       DELINQUENT.ACCTS.IN.LAST.SIX.MONTHS  NO.OF_INQUIRIES   loan_default  \n",
       "count                        233154.000000    233154.000000  233154.000000  \n",
       "mean                              0.097481         0.206615       0.217071  \n",
       "std                               0.384439         0.706498       0.412252  \n",
       "min                               0.000000         0.000000       0.000000  \n",
       "25%                               0.000000         0.000000       0.000000  \n",
       "50%                               0.000000         0.000000       0.000000  \n",
       "75%                               0.000000         0.000000       0.000000  \n",
       "max                              20.000000        36.000000       1.000000  \n",
       "\n",
       "[8 rows x 35 columns]"
      ]
     },
     "execution_count": 254,
     "metadata": {},
     "output_type": "execute_result"
    }
   ],
   "source": [
    "loan.describe()"
   ]
  },
  {
   "cell_type": "code",
   "execution_count": 255,
   "id": "51b42671-9875-4014-96ec-4d5761b2d135",
   "metadata": {},
   "outputs": [
    {
     "data": {
      "text/plain": [
       "Index(['UniqueID', 'disbursed_amount', 'asset_cost', 'ltv', 'branch_id',\n",
       "       'supplier_id', 'manufacturer_id', 'Current_pincode_ID', 'Date.of.Birth',\n",
       "       'Employment.Type', 'DisbursalDate', 'State_ID', 'Employee_code_ID',\n",
       "       'MobileNo_Avl_Flag', 'Aadhar_flag', 'PAN_flag', 'VoterID_flag',\n",
       "       'Driving_flag', 'Passport_flag', 'PERFORM_CNS.SCORE',\n",
       "       'PERFORM_CNS.SCORE.DESCRIPTION', 'PRI.NO.OF.ACCTS', 'PRI.ACTIVE.ACCTS',\n",
       "       'PRI.OVERDUE.ACCTS', 'PRI.CURRENT.BALANCE', 'PRI.SANCTIONED.AMOUNT',\n",
       "       'PRI.DISBURSED.AMOUNT', 'SEC.NO.OF.ACCTS', 'SEC.ACTIVE.ACCTS',\n",
       "       'SEC.OVERDUE.ACCTS', 'SEC.CURRENT.BALANCE', 'SEC.SANCTIONED.AMOUNT',\n",
       "       'SEC.DISBURSED.AMOUNT', 'PRIMARY.INSTAL.AMT', 'SEC.INSTAL.AMT',\n",
       "       'NEW.ACCTS.IN.LAST.SIX.MONTHS', 'DELINQUENT.ACCTS.IN.LAST.SIX.MONTHS',\n",
       "       'AVERAGE.ACCT.AGE', 'CREDIT.HISTORY.LENGTH', 'NO.OF_INQUIRIES',\n",
       "       'loan_default'],\n",
       "      dtype='object')"
      ]
     },
     "execution_count": 255,
     "metadata": {},
     "output_type": "execute_result"
    }
   ],
   "source": [
    "loan.columns"
   ]
  },
  {
   "cell_type": "code",
   "execution_count": 257,
   "id": "6300ede9-4191-4f33-bf5f-7a4fccf3e075",
   "metadata": {},
   "outputs": [
    {
     "name": "stdout",
     "output_type": "stream",
     "text": [
      "<class 'pandas.core.frame.DataFrame'>\n",
      "RangeIndex: 233154 entries, 0 to 233153\n",
      "Data columns (total 41 columns):\n",
      " #   Column                               Non-Null Count   Dtype  \n",
      "---  ------                               --------------   -----  \n",
      " 0   UniqueID                             233154 non-null  int64  \n",
      " 1   disbursed_amount                     233154 non-null  int64  \n",
      " 2   asset_cost                           233154 non-null  int64  \n",
      " 3   ltv                                  233154 non-null  float64\n",
      " 4   branch_id                            233154 non-null  int64  \n",
      " 5   supplier_id                          233154 non-null  int64  \n",
      " 6   manufacturer_id                      233154 non-null  int64  \n",
      " 7   Current_pincode_ID                   233154 non-null  int64  \n",
      " 8   Date.of.Birth                        233154 non-null  object \n",
      " 9   Employment.Type                      225493 non-null  object \n",
      " 10  DisbursalDate                        233154 non-null  object \n",
      " 11  State_ID                             233154 non-null  int64  \n",
      " 12  Employee_code_ID                     233154 non-null  int64  \n",
      " 13  MobileNo_Avl_Flag                    233154 non-null  int64  \n",
      " 14  Aadhar_flag                          233154 non-null  int64  \n",
      " 15  PAN_flag                             233154 non-null  int64  \n",
      " 16  VoterID_flag                         233154 non-null  int64  \n",
      " 17  Driving_flag                         233154 non-null  int64  \n",
      " 18  Passport_flag                        233154 non-null  int64  \n",
      " 19  PERFORM_CNS.SCORE                    233154 non-null  int64  \n",
      " 20  PERFORM_CNS.SCORE.DESCRIPTION        233154 non-null  object \n",
      " 21  PRI.NO.OF.ACCTS                      233154 non-null  int64  \n",
      " 22  PRI.ACTIVE.ACCTS                     233154 non-null  int64  \n",
      " 23  PRI.OVERDUE.ACCTS                    233154 non-null  int64  \n",
      " 24  PRI.CURRENT.BALANCE                  233154 non-null  int64  \n",
      " 25  PRI.SANCTIONED.AMOUNT                233154 non-null  int64  \n",
      " 26  PRI.DISBURSED.AMOUNT                 233154 non-null  int64  \n",
      " 27  SEC.NO.OF.ACCTS                      233154 non-null  int64  \n",
      " 28  SEC.ACTIVE.ACCTS                     233154 non-null  int64  \n",
      " 29  SEC.OVERDUE.ACCTS                    233154 non-null  int64  \n",
      " 30  SEC.CURRENT.BALANCE                  233154 non-null  int64  \n",
      " 31  SEC.SANCTIONED.AMOUNT                233154 non-null  int64  \n",
      " 32  SEC.DISBURSED.AMOUNT                 233154 non-null  int64  \n",
      " 33  PRIMARY.INSTAL.AMT                   233154 non-null  int64  \n",
      " 34  SEC.INSTAL.AMT                       233154 non-null  int64  \n",
      " 35  NEW.ACCTS.IN.LAST.SIX.MONTHS         233154 non-null  int64  \n",
      " 36  DELINQUENT.ACCTS.IN.LAST.SIX.MONTHS  233154 non-null  int64  \n",
      " 37  AVERAGE.ACCT.AGE                     233154 non-null  object \n",
      " 38  CREDIT.HISTORY.LENGTH                233154 non-null  object \n",
      " 39  NO.OF_INQUIRIES                      233154 non-null  int64  \n",
      " 40  loan_default                         233154 non-null  int64  \n",
      "dtypes: float64(1), int64(34), object(6)\n",
      "memory usage: 72.9+ MB\n"
     ]
    }
   ],
   "source": [
    "loan.info()"
   ]
  },
  {
   "cell_type": "code",
   "execution_count": 258,
   "id": "a892503f-ee87-4413-9cab-6b99c89fa2ed",
   "metadata": {},
   "outputs": [
    {
     "data": {
      "text/plain": [
       "UniqueID                                  0\n",
       "disbursed_amount                          0\n",
       "asset_cost                                0\n",
       "ltv                                       0\n",
       "branch_id                                 0\n",
       "supplier_id                               0\n",
       "manufacturer_id                           0\n",
       "Current_pincode_ID                        0\n",
       "Date.of.Birth                             0\n",
       "Employment.Type                        7661\n",
       "DisbursalDate                             0\n",
       "State_ID                                  0\n",
       "Employee_code_ID                          0\n",
       "MobileNo_Avl_Flag                         0\n",
       "Aadhar_flag                               0\n",
       "PAN_flag                                  0\n",
       "VoterID_flag                              0\n",
       "Driving_flag                              0\n",
       "Passport_flag                             0\n",
       "PERFORM_CNS.SCORE                         0\n",
       "PERFORM_CNS.SCORE.DESCRIPTION             0\n",
       "PRI.NO.OF.ACCTS                           0\n",
       "PRI.ACTIVE.ACCTS                          0\n",
       "PRI.OVERDUE.ACCTS                         0\n",
       "PRI.CURRENT.BALANCE                       0\n",
       "PRI.SANCTIONED.AMOUNT                     0\n",
       "PRI.DISBURSED.AMOUNT                      0\n",
       "SEC.NO.OF.ACCTS                           0\n",
       "SEC.ACTIVE.ACCTS                          0\n",
       "SEC.OVERDUE.ACCTS                         0\n",
       "SEC.CURRENT.BALANCE                       0\n",
       "SEC.SANCTIONED.AMOUNT                     0\n",
       "SEC.DISBURSED.AMOUNT                      0\n",
       "PRIMARY.INSTAL.AMT                        0\n",
       "SEC.INSTAL.AMT                            0\n",
       "NEW.ACCTS.IN.LAST.SIX.MONTHS              0\n",
       "DELINQUENT.ACCTS.IN.LAST.SIX.MONTHS       0\n",
       "AVERAGE.ACCT.AGE                          0\n",
       "CREDIT.HISTORY.LENGTH                     0\n",
       "NO.OF_INQUIRIES                           0\n",
       "loan_default                              0\n",
       "dtype: int64"
      ]
     },
     "execution_count": 258,
     "metadata": {},
     "output_type": "execute_result"
    }
   ],
   "source": [
    "loan.isna().sum()"
   ]
  },
  {
   "cell_type": "code",
   "execution_count": 259,
   "id": "829d2d79-ecee-448d-9c65-f70312744d06",
   "metadata": {},
   "outputs": [
    {
     "data": {
      "text/plain": [
       "0"
      ]
     },
     "execution_count": 259,
     "metadata": {},
     "output_type": "execute_result"
    }
   ],
   "source": [
    "loan.duplicated().sum()"
   ]
  },
  {
   "cell_type": "code",
   "execution_count": 26,
   "id": "f212ad6f-1ea7-4f05-8c7e-765b119239ef",
   "metadata": {},
   "outputs": [],
   "source": [
    "# EDA results:\n",
    "# Some of the variable names are not as per python variable naming convevtions.\n",
    "# Employment Type\" has 7661 null values."
   ]
  },
  {
   "cell_type": "code",
   "execution_count": 260,
   "id": "50185bb1-eda9-4bc6-be6f-0628f97daea0",
   "metadata": {},
   "outputs": [
    {
     "name": "stderr",
     "output_type": "stream",
     "text": [
      "C:\\Users\\ranja\\AppData\\Local\\Temp\\ipykernel_4896\\1297042977.py:2: FutureWarning: The default value of regex will change from True to False in a future version. In addition, single character regular expressions will *not* be treated as literal strings when regex=True.\n",
      "  loan.columns=loan.columns.str.replace(\".\",\"_\")\n"
     ]
    }
   ],
   "source": [
    "# replacing \".\" to \"_\" from variable names\n",
    "loan.columns=loan.columns.str.replace(\".\",\"_\")"
   ]
  },
  {
   "cell_type": "code",
   "execution_count": 30,
   "id": "24b59d4b-9d71-4891-ab50-d6c8a7066769",
   "metadata": {},
   "outputs": [],
   "source": [
    "# As Employment type is categorical variable so null values should be replaced by mode function."
   ]
  },
  {
   "cell_type": "code",
   "execution_count": 261,
   "id": "0dcfe1a6-2c0a-443c-bfd2-f9e2cee93166",
   "metadata": {},
   "outputs": [],
   "source": [
    "loan[\"Employment_Type\"].fillna(loan[\"Employment_Type\"].mode()[0],inplace=True)"
   ]
  },
  {
   "cell_type": "code",
   "execution_count": 262,
   "id": "b6a70fb2-7ad2-4ac8-9fe6-71a4052809c5",
   "metadata": {},
   "outputs": [
    {
     "data": {
      "text/plain": [
       "UniqueID                               0\n",
       "disbursed_amount                       0\n",
       "asset_cost                             0\n",
       "ltv                                    0\n",
       "branch_id                              0\n",
       "supplier_id                            0\n",
       "manufacturer_id                        0\n",
       "Current_pincode_ID                     0\n",
       "Date_of_Birth                          0\n",
       "Employment_Type                        0\n",
       "DisbursalDate                          0\n",
       "State_ID                               0\n",
       "Employee_code_ID                       0\n",
       "MobileNo_Avl_Flag                      0\n",
       "Aadhar_flag                            0\n",
       "PAN_flag                               0\n",
       "VoterID_flag                           0\n",
       "Driving_flag                           0\n",
       "Passport_flag                          0\n",
       "PERFORM_CNS_SCORE                      0\n",
       "PERFORM_CNS_SCORE_DESCRIPTION          0\n",
       "PRI_NO_OF_ACCTS                        0\n",
       "PRI_ACTIVE_ACCTS                       0\n",
       "PRI_OVERDUE_ACCTS                      0\n",
       "PRI_CURRENT_BALANCE                    0\n",
       "PRI_SANCTIONED_AMOUNT                  0\n",
       "PRI_DISBURSED_AMOUNT                   0\n",
       "SEC_NO_OF_ACCTS                        0\n",
       "SEC_ACTIVE_ACCTS                       0\n",
       "SEC_OVERDUE_ACCTS                      0\n",
       "SEC_CURRENT_BALANCE                    0\n",
       "SEC_SANCTIONED_AMOUNT                  0\n",
       "SEC_DISBURSED_AMOUNT                   0\n",
       "PRIMARY_INSTAL_AMT                     0\n",
       "SEC_INSTAL_AMT                         0\n",
       "NEW_ACCTS_IN_LAST_SIX_MONTHS           0\n",
       "DELINQUENT_ACCTS_IN_LAST_SIX_MONTHS    0\n",
       "AVERAGE_ACCT_AGE                       0\n",
       "CREDIT_HISTORY_LENGTH                  0\n",
       "NO_OF_INQUIRIES                        0\n",
       "loan_default                           0\n",
       "dtype: int64"
      ]
     },
     "execution_count": 262,
     "metadata": {},
     "output_type": "execute_result"
    }
   ],
   "source": [
    "loan.isna().sum()"
   ]
  },
  {
   "cell_type": "code",
   "execution_count": 43,
   "id": "0fc738de-fd4c-454d-bbf0-adb04a6c6bb6",
   "metadata": {},
   "outputs": [],
   "source": [
    "## Univariate Analysis\n",
    "# For categorical variable - Plot frequency table/bar plot\n",
    "# For numerical variable - Plot probability density plot"
   ]
  },
  {
   "cell_type": "code",
   "execution_count": 45,
   "id": "01e3894e-d03a-4b51-be1c-933774d9a731",
   "metadata": {},
   "outputs": [],
   "source": [
    "## To plot graphs loading packages"
   ]
  },
  {
   "cell_type": "code",
   "execution_count": 263,
   "id": "c1e261c4-157e-42b1-a562-aa4f2cfb97f9",
   "metadata": {},
   "outputs": [],
   "source": [
    "import matplotlib.pyplot as plt   # For plotting graphs\n",
    "import seaborn as sns             # For data visualization"
   ]
  },
  {
   "cell_type": "code",
   "execution_count": 47,
   "id": "55a7767d-1e96-4ea7-aa43-2cf3ba924408",
   "metadata": {},
   "outputs": [],
   "source": [
    "# Plot target variable \"loan_default\" distribution"
   ]
  },
  {
   "cell_type": "code",
   "execution_count": 264,
   "id": "e74f44e0-2038-48e4-8f17-3ee049e6f9fe",
   "metadata": {},
   "outputs": [
    {
     "data": {
      "image/png": "[encoded data removed]",
      "text/plain": [
       "<Figure size 432x288 with 1 Axes>"
      ]
     },
     "metadata": {
      "needs_background": "light"
     },
     "output_type": "display_data"
    }
   ],
   "source": [
    "plt.hist(loan.loan_default,edgecolor='white')\n",
    "plt.show()"
   ]
  },
  {
   "cell_type": "code",
   "execution_count": 265,
   "id": "31656d33-da28-4a5e-9c8e-127a1bd66970",
   "metadata": {},
   "outputs": [
    {
     "data": {
      "text/plain": [
       "<AxesSubplot:>"
      ]
     },
     "execution_count": 265,
     "metadata": {},
     "output_type": "execute_result"
    },
    {
     "data": {
      "image/png": "[encoded data removed]",
      "text/plain": [
       "<Figure size 432x288 with 1 Axes>"
      ]
     },
     "metadata": {
      "needs_background": "light"
     },
     "output_type": "display_data"
    }
   ],
   "source": [
    "loan[\"loan_default\"].value_counts().plot.bar()"
   ]
  },
  {
   "cell_type": "code",
   "execution_count": 266,
   "id": "febd3f11-1868-4bdc-82aa-43e8941acf57",
   "metadata": {},
   "outputs": [
    {
     "data": {
      "text/plain": [
       "0    182543\n",
       "1     50611\n",
       "Name: loan_default, dtype: int64"
      ]
     },
     "execution_count": 266,
     "metadata": {},
     "output_type": "execute_result"
    }
   ],
   "source": [
    "# Categorical count of the variable\n",
    "loan[\"loan_default\"].value_counts()"
   ]
  },
  {
   "cell_type": "code",
   "execution_count": 267,
   "id": "14212bea-53a0-4e54-bad6-1d86b25c2a64",
   "metadata": {},
   "outputs": [
    {
     "data": {
      "text/plain": [
       "0    0.782929\n",
       "1    0.217071\n",
       "Name: loan_default, dtype: float64"
      ]
     },
     "execution_count": 267,
     "metadata": {},
     "output_type": "execute_result"
    }
   ],
   "source": [
    "# Categorical count of the variable in percentage\n",
    "loan[\"loan_default\"].value_counts(normalize=\"True\")"
   ]
  },
  {
   "cell_type": "code",
   "execution_count": 55,
   "id": "7eefa1ce-807f-4058-9611-9626f0bb8d20",
   "metadata": {},
   "outputs": [],
   "source": [
    "# 78.29% of loan_default variable are 0 i.e. non-defaulters"
   ]
  },
  {
   "cell_type": "code",
   "execution_count": 268,
   "id": "1f17467b-5fc4-4ec5-9062-1c44b7b811ab",
   "metadata": {},
   "outputs": [],
   "source": [
    "## Bivariate Analysis\n",
    "# Find out relation between independent variable and target variable.\n",
    "# Stacked bar chart gives proportion of loan non-defaulters and defaulters."
   ]
  },
  {
   "cell_type": "code",
   "execution_count": 269,
   "id": "731e4c9e-74f5-4af8-a0a9-f6ae52e7c5c6",
   "metadata": {},
   "outputs": [
    {
     "data": {
      "text/plain": [
       "<AxesSubplot:xlabel='branch_id'>"
      ]
     },
     "execution_count": 269,
     "metadata": {},
     "output_type": "execute_result"
    },
    {
     "data": {
      "image/png": "[encoded data removed]",
      "text/plain": [
       "<Figure size 3600x720 with 1 Axes>"
      ]
     },
     "metadata": {
      "needs_background": "light"
     },
     "output_type": "display_data"
    }
   ],
   "source": [
    "branch=pd.crosstab(loan[\"branch_id\"],loan[\"loan_default\"])\n",
    "branch.div(branch.sum(1).astype(float),axis=0).plot(kind=\"bar\",stacked=\"True\",figsize=(50,10))"
   ]
  },
  {
   "cell_type": "code",
   "execution_count": 325,
   "id": "aad427bf-d7b1-4931-8cf9-61dd8d817e34",
   "metadata": {},
   "outputs": [
    {
     "data": {
      "text/plain": [
       "182543"
      ]
     },
     "execution_count": 325,
     "metadata": {},
     "output_type": "execute_result"
    }
   ],
   "source": [
    "loan.branch_id[(loan.loan_default==0)].count()"
   ]
  },
  {
   "cell_type": "code",
   "execution_count": 326,
   "id": "e8334890-e95b-4a9c-af8b-1b9b75ab31a9",
   "metadata": {},
   "outputs": [
    {
     "data": {
      "text/plain": [
       "50611"
      ]
     },
     "execution_count": 326,
     "metadata": {},
     "output_type": "execute_result"
    }
   ],
   "source": [
    "loan.branch_id[(loan.loan_default==1)].count()"
   ]
  },
  {
   "cell_type": "code",
   "execution_count": 270,
   "id": "f24e4a22-f8fa-4e40-b368-ac57e796902b",
   "metadata": {},
   "outputs": [
    {
     "data": {
      "text/plain": [
       "<AxesSubplot:>"
      ]
     },
     "execution_count": 270,
     "metadata": {},
     "output_type": "execute_result"
    },
    {
     "data": {
      "image/png": "[encoded data removed]",
      "text/plain": [
       "<Figure size 2160x432 with 1 Axes>"
      ]
     },
     "metadata": {
      "needs_background": "light"
     },
     "output_type": "display_data"
    }
   ],
   "source": [
    "state=pd.crosstab(loan[\"State_ID\"],loan[\"loan_default\"])\n",
    "state.div(branch.sum(1).astype(float),axis=0).plot(kind=\"bar\",stacked=\"True\",figsize=(30,6))"
   ]
  },
  {
   "cell_type": "code",
   "execution_count": 327,
   "id": "89c10e1a-15e8-4ea8-83c3-6d425922ca72",
   "metadata": {},
   "outputs": [
    {
     "data": {
      "text/plain": [
       "182543"
      ]
     },
     "execution_count": 327,
     "metadata": {},
     "output_type": "execute_result"
    }
   ],
   "source": [
    "loan.State_ID[(loan.loan_default==0)].count()"
   ]
  },
  {
   "cell_type": "code",
   "execution_count": 328,
   "id": "ac69cab2-58ce-40de-b1fa-0e588a1396da",
   "metadata": {},
   "outputs": [
    {
     "data": {
      "text/plain": [
       "50611"
      ]
     },
     "execution_count": 328,
     "metadata": {},
     "output_type": "execute_result"
    }
   ],
   "source": [
    "loan.State_ID[(loan.loan_default==1)].count()"
   ]
  },
  {
   "cell_type": "code",
   "execution_count": 271,
   "id": "ef6cc905-edd5-456e-b588-0c66ee97c061",
   "metadata": {},
   "outputs": [
    {
     "data": {
      "text/plain": [
       "<AxesSubplot:>"
      ]
     },
     "execution_count": 271,
     "metadata": {},
     "output_type": "execute_result"
    },
    {
     "data": {
      "image/png": "[encoded data removed]",
      "text/plain": [
       "<Figure size 2160x432 with 1 Axes>"
      ]
     },
     "metadata": {
      "needs_background": "light"
     },
     "output_type": "display_data"
    }
   ],
   "source": [
    "manufacturer=pd.crosstab(loan[\"manufacturer_id\"],loan[\"loan_default\"])\n",
    "manufacturer.div(branch.sum(1).astype(float),axis=0).plot(kind=\"bar\",stacked=\"True\",figsize=(30,6))"
   ]
  },
  {
   "cell_type": "code",
   "execution_count": 329,
   "id": "ac66ab18-6313-4af9-99e0-ae24acbbef58",
   "metadata": {},
   "outputs": [
    {
     "data": {
      "text/plain": [
       "182543"
      ]
     },
     "execution_count": 329,
     "metadata": {},
     "output_type": "execute_result"
    }
   ],
   "source": [
    "loan.manufacturer_id[(loan.loan_default==0)].count()"
   ]
  },
  {
   "cell_type": "code",
   "execution_count": 330,
   "id": "ae3370bb-ccd8-4d9d-b82b-771eeb3bdc25",
   "metadata": {},
   "outputs": [
    {
     "data": {
      "text/plain": [
       "50611"
      ]
     },
     "execution_count": 330,
     "metadata": {},
     "output_type": "execute_result"
    }
   ],
   "source": [
    "loan.manufacturer_id[(loan.loan_default==1)].count()"
   ]
  },
  {
   "cell_type": "code",
   "execution_count": 76,
   "id": "bb2d179d-f238-4ab5-a089-beb2343222c3",
   "metadata": {},
   "outputs": [],
   "source": [
    "## Bivariate Analysis\n",
    "# Scatter plot gives idea about non-defaulters and defaulters for supplier_id."
   ]
  },
  {
   "cell_type": "code",
   "execution_count": 272,
   "id": "783fbe2b-c387-4556-be20-1be94df71fa0",
   "metadata": {},
   "outputs": [
    {
     "data": {
      "image/png": "[encoded data removed]",
      "text/plain": [
       "<Figure size 432x288 with 1 Axes>"
      ]
     },
     "metadata": {
      "needs_background": "light"
     },
     "output_type": "display_data"
    }
   ],
   "source": [
    "plt.scatter(loan.supplier_id,loan.loan_default,color='b',marker='x')\n",
    "plt.xlabel('supplier_id')\n",
    "plt.ylabel('loan_default')\n",
    "plt.grid()\n",
    "plt.show()"
   ]
  },
  {
   "cell_type": "code",
   "execution_count": 80,
   "id": "44fd5c22-358b-43ca-95be-68dc9a827946",
   "metadata": {},
   "outputs": [],
   "source": [
    "# Find out different employment_type and plot pie chart for non-defaulters and defaulters individualy."
   ]
  },
  {
   "cell_type": "code",
   "execution_count": 273,
   "id": "41fbab80-466b-4a71-bbcf-4dbaca34ac14",
   "metadata": {},
   "outputs": [
    {
     "data": {
      "text/plain": [
       "104595"
      ]
     },
     "execution_count": 273,
     "metadata": {},
     "output_type": "execute_result"
    }
   ],
   "source": [
    "non_defaulter_self_emp=loan.Employment_Type[(loan.Employment_Type==\"Self employed\") & (loan.loan_default==0)].count()\n",
    "non_defaulter_self_emp"
   ]
  },
  {
   "cell_type": "code",
   "execution_count": 274,
   "id": "e7bc6375-0549-46ae-bc86-7671db780719",
   "metadata": {},
   "outputs": [
    {
     "data": {
      "text/plain": [
       "77948"
      ]
     },
     "execution_count": 274,
     "metadata": {},
     "output_type": "execute_result"
    }
   ],
   "source": [
    "non_defaulter_salaried=loan.Employment_Type[(loan.Employment_Type==\"Salaried\") & (loan.loan_default==0)].count()\n",
    "non_defaulter_salaried"
   ]
  },
  {
   "cell_type": "code",
   "execution_count": 275,
   "id": "cdb29779-055a-4285-aa27-13b66de36871",
   "metadata": {},
   "outputs": [
    {
     "data": {
      "text/plain": [
       "30701"
      ]
     },
     "execution_count": 275,
     "metadata": {},
     "output_type": "execute_result"
    }
   ],
   "source": [
    "defaulter_self_emp=loan.Employment_Type[(loan.Employment_Type==\"Self employed\") & (loan.loan_default==1)].count()\n",
    "defaulter_self_emp"
   ]
  },
  {
   "cell_type": "code",
   "execution_count": 276,
   "id": "e774e1c0-3ac1-4950-b9e2-637de3882056",
   "metadata": {},
   "outputs": [
    {
     "data": {
      "text/plain": [
       "19910"
      ]
     },
     "execution_count": 276,
     "metadata": {},
     "output_type": "execute_result"
    }
   ],
   "source": [
    "defaulter_salaried=loan.Employment_Type[(loan.Employment_Type==\"Salaried\") & (loan.loan_default==1)].count()\n",
    "defaulter_salaried"
   ]
  },
  {
   "cell_type": "code",
   "execution_count": 277,
   "id": "d0d43908-b900-4539-af00-6098d266f0f7",
   "metadata": {},
   "outputs": [],
   "source": [
    "non_defaulter_count=[non_defaulter_self_emp,non_defaulter_salaried]\n",
    "defaulter_count=[defaulter_self_emp,defaulter_salaried]\n",
    "employment_types=['Salaried', 'Self employed']"
   ]
  },
  {
   "cell_type": "code",
   "execution_count": 278,
   "id": "46265d8a-da65-4bcd-80e8-464380e516cf",
   "metadata": {},
   "outputs": [
    {
     "data": {
      "image/png": "[encoded data removed]",
      "text/plain": [
       "<Figure size 432x288 with 1 Axes>"
      ]
     },
     "metadata": {},
     "output_type": "display_data"
    }
   ],
   "source": [
    "plt.axis(\"equal\")\n",
    "plt.pie(non_defaulter_count,labels=employment_types,autopct=\"%0.1f%%\")\n",
    "plt.title(\"Pie Chart for loan non-defauletrs\")\n",
    "plt.show()"
   ]
  },
  {
   "cell_type": "code",
   "execution_count": 279,
   "id": "355f6472-f22d-4a2a-9e8d-8e84342e14a2",
   "metadata": {},
   "outputs": [
    {
     "data": {
      "image/png": "[encoded data removed]",
      "text/plain": [
       "<Figure size 432x288 with 1 Axes>"
      ]
     },
     "metadata": {},
     "output_type": "display_data"
    }
   ],
   "source": [
    "plt.axis(\"equal\")\n",
    "plt.pie(defaulter_count,labels=employment_types,autopct=\"%0.1f%%\")\n",
    "plt.title(\"Pie Chart for loan defauletrs\")\n",
    "plt.show()"
   ]
  },
  {
   "cell_type": "code",
   "execution_count": null,
   "id": "49f34f02-15a8-456e-b45e-432f114a4086",
   "metadata": {},
   "outputs": [],
   "source": [
    "# In load defaulters Salaried customers are holding more percentage."
   ]
  },
  {
   "cell_type": "code",
   "execution_count": 150,
   "id": "995cbf97-2394-426d-b7f1-853c609772b8",
   "metadata": {},
   "outputs": [],
   "source": [
    "# Analysing age factor to loan_default i.e. defaulter and non_defaulter"
   ]
  },
  {
   "cell_type": "code",
   "execution_count": 280,
   "id": "ff61a07b-bf70-4de0-8091-bde4e6a04b22",
   "metadata": {},
   "outputs": [],
   "source": [
    "from datetime import date,datetime"
   ]
  },
  {
   "cell_type": "code",
   "execution_count": 281,
   "id": "75543152-3310-48b4-88b4-63979797001f",
   "metadata": {},
   "outputs": [],
   "source": [
    "dob={'Date_of_Birth':loan[\"Date_of_Birth\"]}"
   ]
  },
  {
   "cell_type": "code",
   "execution_count": 282,
   "id": "7b673b14-0b84-4875-9039-8e03e5fef95a",
   "metadata": {},
   "outputs": [],
   "source": [
    "loan[[\"Date_of_Birth\"]]=pd.DataFrame(data=dob)"
   ]
  },
  {
   "cell_type": "code",
   "execution_count": 283,
   "id": "425d2872-5bb5-4bf0-9d5e-d2fe2e3973fe",
   "metadata": {},
   "outputs": [
    {
     "data": {
      "text/plain": [
       "pandas.core.frame.DataFrame"
      ]
     },
     "execution_count": 283,
     "metadata": {},
     "output_type": "execute_result"
    }
   ],
   "source": [
    "type(loan[[\"Date_of_Birth\"]])"
   ]
  },
  {
   "cell_type": "code",
   "execution_count": 284,
   "id": "cbfb8feb-2d44-4744-b117-6bc6b763da50",
   "metadata": {},
   "outputs": [],
   "source": [
    "def age(born):\n",
    "    born=datetime.strptime(born,\"%m/%d/%Y\").date()\n",
    "    today=date.today()\n",
    "    return today.year - born.year - ((today.month,today.day)<(born.month,born.day))"
   ]
  },
  {
   "cell_type": "code",
   "execution_count": 285,
   "id": "6ebc0186-f837-4edd-a1d3-9b3e6f9cedc1",
   "metadata": {},
   "outputs": [],
   "source": [
    "loan['Age']=loan['Date_of_Birth'].apply(age)"
   ]
  },
  {
   "cell_type": "code",
   "execution_count": 286,
   "id": "19e2d1c0-ef7c-40ee-b681-3f8f35c0ca88",
   "metadata": {},
   "outputs": [
    {
     "data": {
      "image/png": "[encoded data removed]",
      "text/plain": [
       "<Figure size 432x288 with 1 Axes>"
      ]
     },
     "metadata": {
      "needs_background": "light"
     },
     "output_type": "display_data"
    }
   ],
   "source": [
    "#age=pd.crosstab(loan[\"Age\"],loan[\"loan_default\"])\n",
    "#age.div(branch.sum(1).astype(float),axis=0).plot(kind=\"bar\",stacked=\"True\",figsize=(20,6))\n",
    "\n",
    "plt.scatter(loan.Age,loan.loan_default,color='b',marker='o')\n",
    "plt.xlabel('Age')\n",
    "plt.ylabel('loan_default')\n",
    "plt.show()"
   ]
  },
  {
   "cell_type": "code",
   "execution_count": 287,
   "id": "8841a7f4-3394-4630-b3e4-9db0173e0a5c",
   "metadata": {},
   "outputs": [],
   "source": [
    "age_non_default=loan.Age[loan.loan_default == 0]"
   ]
  },
  {
   "cell_type": "code",
   "execution_count": 288,
   "id": "8c684809-07b6-475a-80b2-e5efcaceef94",
   "metadata": {},
   "outputs": [],
   "source": [
    "age_default=loan.Age[loan.loan_default == 1]"
   ]
  },
  {
   "cell_type": "code",
   "execution_count": 289,
   "id": "24f5b1f9-fd34-4113-9474-6f36da20dcdf",
   "metadata": {},
   "outputs": [
    {
     "data": {
      "text/plain": [
       "74"
      ]
     },
     "execution_count": 289,
     "metadata": {},
     "output_type": "execute_result"
    }
   ],
   "source": [
    "age_non_default.max()"
   ]
  },
  {
   "cell_type": "code",
   "execution_count": 290,
   "id": "2c4cccf9-f121-4843-b16f-1ba17fa899e5",
   "metadata": {},
   "outputs": [],
   "source": [
    "new_list=set(age_non_default)"
   ]
  },
  {
   "cell_type": "code",
   "execution_count": 291,
   "id": "0537c22c-415e-44f3-a129-b8760a624073",
   "metadata": {},
   "outputs": [],
   "source": [
    "new_list.remove(max(new_list)) ## removing outliers from age_non_default"
   ]
  },
  {
   "cell_type": "code",
   "execution_count": 292,
   "id": "b0c4a127-44b5-41ea-bbde-550b33a1555a",
   "metadata": {},
   "outputs": [
    {
     "name": "stdout",
     "output_type": "stream",
     "text": [
      "69\n"
     ]
    }
   ],
   "source": [
    "print(max(new_list))"
   ]
  },
  {
   "cell_type": "code",
   "execution_count": 293,
   "id": "2b935aff-a649-40a3-b3dc-fbf13dd842d4",
   "metadata": {},
   "outputs": [
    {
     "data": {
      "text/plain": [
       "22"
      ]
     },
     "execution_count": 293,
     "metadata": {},
     "output_type": "execute_result"
    }
   ],
   "source": [
    "age_non_default.min()"
   ]
  },
  {
   "cell_type": "code",
   "execution_count": 294,
   "id": "ba29a447-e0b4-48de-b886-f762dbf86161",
   "metadata": {},
   "outputs": [
    {
     "data": {
      "text/plain": [
       "69"
      ]
     },
     "execution_count": 294,
     "metadata": {},
     "output_type": "execute_result"
    }
   ],
   "source": [
    "age_default.max()"
   ]
  },
  {
   "cell_type": "code",
   "execution_count": 295,
   "id": "4b5a414f-169c-4667-bb55-488bbd200fe6",
   "metadata": {},
   "outputs": [
    {
     "data": {
      "text/plain": [
       "22"
      ]
     },
     "execution_count": 295,
     "metadata": {},
     "output_type": "execute_result"
    }
   ],
   "source": [
    "age_default.min()"
   ]
  },
  {
   "cell_type": "code",
   "execution_count": 296,
   "id": "db70af68-992a-4a6c-95ae-a84590451da9",
   "metadata": {},
   "outputs": [
    {
     "data": {
      "image/png": "[encoded data removed]",
      "text/plain": [
       "<Figure size 432x288 with 1 Axes>"
      ]
     },
     "metadata": {
      "needs_background": "light"
     },
     "output_type": "display_data"
    }
   ],
   "source": [
    "plt.hist(loan.Age,edgecolor='white')\n",
    "plt.show()"
   ]
  },
  {
   "cell_type": "code",
   "execution_count": 297,
   "id": "fc50bb41-b54c-483f-aa6a-d1b2bbb39b11",
   "metadata": {},
   "outputs": [
    {
     "data": {
      "text/plain": [
       "<AxesSubplot:>"
      ]
     },
     "execution_count": 297,
     "metadata": {},
     "output_type": "execute_result"
    },
    {
     "data": {
      "image/png": "[encoded data removed]",
      "text/plain": [
       "<Figure size 2160x432 with 1 Axes>"
      ]
     },
     "metadata": {
      "needs_background": "light"
     },
     "output_type": "display_data"
    }
   ],
   "source": [
    "age_1=pd.crosstab(loan[\"Age\"],loan[\"loan_default\"])\n",
    "age_1.div(branch.sum(1).astype(float),axis=0).plot(kind=\"bar\",stacked=\"True\",figsize=(30,6))"
   ]
  },
  {
   "cell_type": "code",
   "execution_count": 187,
   "id": "220bb1c9-a8ff-4974-bd91-40b5e68ef27b",
   "metadata": {},
   "outputs": [],
   "source": [
    "## Age is not a deciding factor for loan default."
   ]
  },
  {
   "cell_type": "code",
   "execution_count": 189,
   "id": "ae4b5f3d-7f16-42fb-8dc0-f970820f755c",
   "metadata": {},
   "outputs": [],
   "source": [
    "# What type of ID was presented by most of the customers for proof"
   ]
  },
  {
   "cell_type": "code",
   "execution_count": 300,
   "id": "2f6ddda6-5f05-49f7-9efa-3d1c846325a2",
   "metadata": {},
   "outputs": [
    {
     "data": {
      "text/html": [
       "<div>\n",
       "<style scoped>\n",
       "    .dataframe tbody tr th:only-of-type {\n",
       "        vertical-align: middle;\n",
       "    }\n",
       "\n",
       "    .dataframe tbody tr th {\n",
       "        vertical-align: top;\n",
       "    }\n",
       "\n",
       "    .dataframe thead th {\n",
       "        text-align: right;\n",
       "    }\n",
       "</style>\n",
       "<table border=\"1\" class=\"dataframe\">\n",
       "  <thead>\n",
       "    <tr style=\"text-align: right;\">\n",
       "      <th></th>\n",
       "      <th></th>\n",
       "      <th></th>\n",
       "      <th></th>\n",
       "      <th></th>\n",
       "      <th></th>\n",
       "      <th>UniqueID</th>\n",
       "      <th>disbursed_amount</th>\n",
       "      <th>asset_cost</th>\n",
       "      <th>ltv</th>\n",
       "      <th>branch_id</th>\n",
       "      <th>supplier_id</th>\n",
       "      <th>manufacturer_id</th>\n",
       "      <th>Current_pincode_ID</th>\n",
       "      <th>Date_of_Birth</th>\n",
       "      <th>Employment_Type</th>\n",
       "      <th>...</th>\n",
       "      <th>SEC_DISBURSED_AMOUNT</th>\n",
       "      <th>PRIMARY_INSTAL_AMT</th>\n",
       "      <th>SEC_INSTAL_AMT</th>\n",
       "      <th>NEW_ACCTS_IN_LAST_SIX_MONTHS</th>\n",
       "      <th>DELINQUENT_ACCTS_IN_LAST_SIX_MONTHS</th>\n",
       "      <th>AVERAGE_ACCT_AGE</th>\n",
       "      <th>CREDIT_HISTORY_LENGTH</th>\n",
       "      <th>NO_OF_INQUIRIES</th>\n",
       "      <th>loan_default</th>\n",
       "      <th>Age</th>\n",
       "    </tr>\n",
       "    <tr>\n",
       "      <th>MobileNo_Avl_Flag</th>\n",
       "      <th>Aadhar_flag</th>\n",
       "      <th>PAN_flag</th>\n",
       "      <th>VoterID_flag</th>\n",
       "      <th>Driving_flag</th>\n",
       "      <th>Passport_flag</th>\n",
       "      <th></th>\n",
       "      <th></th>\n",
       "      <th></th>\n",
       "      <th></th>\n",
       "      <th></th>\n",
       "      <th></th>\n",
       "      <th></th>\n",
       "      <th></th>\n",
       "      <th></th>\n",
       "      <th></th>\n",
       "      <th></th>\n",
       "      <th></th>\n",
       "      <th></th>\n",
       "      <th></th>\n",
       "      <th></th>\n",
       "      <th></th>\n",
       "      <th></th>\n",
       "      <th></th>\n",
       "      <th></th>\n",
       "      <th></th>\n",
       "      <th></th>\n",
       "    </tr>\n",
       "  </thead>\n",
       "  <tbody>\n",
       "    <tr>\n",
       "      <th rowspan=\"24\" valign=\"top\">1</th>\n",
       "      <th rowspan=\"12\" valign=\"top\">0</th>\n",
       "      <th rowspan=\"6\" valign=\"top\">0</th>\n",
       "      <th rowspan=\"3\" valign=\"top\">0</th>\n",
       "      <th>0</th>\n",
       "      <th>1</th>\n",
       "      <td>369</td>\n",
       "      <td>369</td>\n",
       "      <td>369</td>\n",
       "      <td>369</td>\n",
       "      <td>369</td>\n",
       "      <td>369</td>\n",
       "      <td>369</td>\n",
       "      <td>369</td>\n",
       "      <td>369</td>\n",
       "      <td>369</td>\n",
       "      <td>...</td>\n",
       "      <td>369</td>\n",
       "      <td>369</td>\n",
       "      <td>369</td>\n",
       "      <td>369</td>\n",
       "      <td>369</td>\n",
       "      <td>369</td>\n",
       "      <td>369</td>\n",
       "      <td>369</td>\n",
       "      <td>369</td>\n",
       "      <td>369</td>\n",
       "    </tr>\n",
       "    <tr>\n",
       "      <th rowspan=\"2\" valign=\"top\">1</th>\n",
       "      <th>0</th>\n",
       "      <td>4051</td>\n",
       "      <td>4051</td>\n",
       "      <td>4051</td>\n",
       "      <td>4051</td>\n",
       "      <td>4051</td>\n",
       "      <td>4051</td>\n",
       "      <td>4051</td>\n",
       "      <td>4051</td>\n",
       "      <td>4051</td>\n",
       "      <td>4051</td>\n",
       "      <td>...</td>\n",
       "      <td>4051</td>\n",
       "      <td>4051</td>\n",
       "      <td>4051</td>\n",
       "      <td>4051</td>\n",
       "      <td>4051</td>\n",
       "      <td>4051</td>\n",
       "      <td>4051</td>\n",
       "      <td>4051</td>\n",
       "      <td>4051</td>\n",
       "      <td>4051</td>\n",
       "    </tr>\n",
       "    <tr>\n",
       "      <th>1</th>\n",
       "      <td>3</td>\n",
       "      <td>3</td>\n",
       "      <td>3</td>\n",
       "      <td>3</td>\n",
       "      <td>3</td>\n",
       "      <td>3</td>\n",
       "      <td>3</td>\n",
       "      <td>3</td>\n",
       "      <td>3</td>\n",
       "      <td>3</td>\n",
       "      <td>...</td>\n",
       "      <td>3</td>\n",
       "      <td>3</td>\n",
       "      <td>3</td>\n",
       "      <td>3</td>\n",
       "      <td>3</td>\n",
       "      <td>3</td>\n",
       "      <td>3</td>\n",
       "      <td>3</td>\n",
       "      <td>3</td>\n",
       "      <td>3</td>\n",
       "    </tr>\n",
       "    <tr>\n",
       "      <th rowspan=\"3\" valign=\"top\">1</th>\n",
       "      <th rowspan=\"2\" valign=\"top\">0</th>\n",
       "      <th>0</th>\n",
       "      <td>25251</td>\n",
       "      <td>25251</td>\n",
       "      <td>25251</td>\n",
       "      <td>25251</td>\n",
       "      <td>25251</td>\n",
       "      <td>25251</td>\n",
       "      <td>25251</td>\n",
       "      <td>25251</td>\n",
       "      <td>25251</td>\n",
       "      <td>25251</td>\n",
       "      <td>...</td>\n",
       "      <td>25251</td>\n",
       "      <td>25251</td>\n",
       "      <td>25251</td>\n",
       "      <td>25251</td>\n",
       "      <td>25251</td>\n",
       "      <td>25251</td>\n",
       "      <td>25251</td>\n",
       "      <td>25251</td>\n",
       "      <td>25251</td>\n",
       "      <td>25251</td>\n",
       "    </tr>\n",
       "    <tr>\n",
       "      <th>1</th>\n",
       "      <td>5</td>\n",
       "      <td>5</td>\n",
       "      <td>5</td>\n",
       "      <td>5</td>\n",
       "      <td>5</td>\n",
       "      <td>5</td>\n",
       "      <td>5</td>\n",
       "      <td>5</td>\n",
       "      <td>5</td>\n",
       "      <td>5</td>\n",
       "      <td>...</td>\n",
       "      <td>5</td>\n",
       "      <td>5</td>\n",
       "      <td>5</td>\n",
       "      <td>5</td>\n",
       "      <td>5</td>\n",
       "      <td>5</td>\n",
       "      <td>5</td>\n",
       "      <td>5</td>\n",
       "      <td>5</td>\n",
       "      <td>5</td>\n",
       "    </tr>\n",
       "    <tr>\n",
       "      <th>1</th>\n",
       "      <th>0</th>\n",
       "      <td>170</td>\n",
       "      <td>170</td>\n",
       "      <td>170</td>\n",
       "      <td>170</td>\n",
       "      <td>170</td>\n",
       "      <td>170</td>\n",
       "      <td>170</td>\n",
       "      <td>170</td>\n",
       "      <td>170</td>\n",
       "      <td>170</td>\n",
       "      <td>...</td>\n",
       "      <td>170</td>\n",
       "      <td>170</td>\n",
       "      <td>170</td>\n",
       "      <td>170</td>\n",
       "      <td>170</td>\n",
       "      <td>170</td>\n",
       "      <td>170</td>\n",
       "      <td>170</td>\n",
       "      <td>170</td>\n",
       "      <td>170</td>\n",
       "    </tr>\n",
       "    <tr>\n",
       "      <th rowspan=\"6\" valign=\"top\">1</th>\n",
       "      <th rowspan=\"3\" valign=\"top\">0</th>\n",
       "      <th rowspan=\"2\" valign=\"top\">0</th>\n",
       "      <th>0</th>\n",
       "      <td>973</td>\n",
       "      <td>973</td>\n",
       "      <td>973</td>\n",
       "      <td>973</td>\n",
       "      <td>973</td>\n",
       "      <td>973</td>\n",
       "      <td>973</td>\n",
       "      <td>973</td>\n",
       "      <td>973</td>\n",
       "      <td>973</td>\n",
       "      <td>...</td>\n",
       "      <td>973</td>\n",
       "      <td>973</td>\n",
       "      <td>973</td>\n",
       "      <td>973</td>\n",
       "      <td>973</td>\n",
       "      <td>973</td>\n",
       "      <td>973</td>\n",
       "      <td>973</td>\n",
       "      <td>973</td>\n",
       "      <td>973</td>\n",
       "    </tr>\n",
       "    <tr>\n",
       "      <th>1</th>\n",
       "      <td>29</td>\n",
       "      <td>29</td>\n",
       "      <td>29</td>\n",
       "      <td>29</td>\n",
       "      <td>29</td>\n",
       "      <td>29</td>\n",
       "      <td>29</td>\n",
       "      <td>29</td>\n",
       "      <td>29</td>\n",
       "      <td>29</td>\n",
       "      <td>...</td>\n",
       "      <td>29</td>\n",
       "      <td>29</td>\n",
       "      <td>29</td>\n",
       "      <td>29</td>\n",
       "      <td>29</td>\n",
       "      <td>29</td>\n",
       "      <td>29</td>\n",
       "      <td>29</td>\n",
       "      <td>29</td>\n",
       "      <td>29</td>\n",
       "    </tr>\n",
       "    <tr>\n",
       "      <th>1</th>\n",
       "      <th>0</th>\n",
       "      <td>273</td>\n",
       "      <td>273</td>\n",
       "      <td>273</td>\n",
       "      <td>273</td>\n",
       "      <td>273</td>\n",
       "      <td>273</td>\n",
       "      <td>273</td>\n",
       "      <td>273</td>\n",
       "      <td>273</td>\n",
       "      <td>273</td>\n",
       "      <td>...</td>\n",
       "      <td>273</td>\n",
       "      <td>273</td>\n",
       "      <td>273</td>\n",
       "      <td>273</td>\n",
       "      <td>273</td>\n",
       "      <td>273</td>\n",
       "      <td>273</td>\n",
       "      <td>273</td>\n",
       "      <td>273</td>\n",
       "      <td>273</td>\n",
       "    </tr>\n",
       "    <tr>\n",
       "      <th rowspan=\"3\" valign=\"top\">1</th>\n",
       "      <th rowspan=\"2\" valign=\"top\">0</th>\n",
       "      <th>0</th>\n",
       "      <td>6095</td>\n",
       "      <td>6095</td>\n",
       "      <td>6095</td>\n",
       "      <td>6095</td>\n",
       "      <td>6095</td>\n",
       "      <td>6095</td>\n",
       "      <td>6095</td>\n",
       "      <td>6095</td>\n",
       "      <td>6095</td>\n",
       "      <td>6095</td>\n",
       "      <td>...</td>\n",
       "      <td>6095</td>\n",
       "      <td>6095</td>\n",
       "      <td>6095</td>\n",
       "      <td>6095</td>\n",
       "      <td>6095</td>\n",
       "      <td>6095</td>\n",
       "      <td>6095</td>\n",
       "      <td>6095</td>\n",
       "      <td>6095</td>\n",
       "      <td>6095</td>\n",
       "    </tr>\n",
       "    <tr>\n",
       "      <th>1</th>\n",
       "      <td>1</td>\n",
       "      <td>1</td>\n",
       "      <td>1</td>\n",
       "      <td>1</td>\n",
       "      <td>1</td>\n",
       "      <td>1</td>\n",
       "      <td>1</td>\n",
       "      <td>1</td>\n",
       "      <td>1</td>\n",
       "      <td>1</td>\n",
       "      <td>...</td>\n",
       "      <td>1</td>\n",
       "      <td>1</td>\n",
       "      <td>1</td>\n",
       "      <td>1</td>\n",
       "      <td>1</td>\n",
       "      <td>1</td>\n",
       "      <td>1</td>\n",
       "      <td>1</td>\n",
       "      <td>1</td>\n",
       "      <td>1</td>\n",
       "    </tr>\n",
       "    <tr>\n",
       "      <th>1</th>\n",
       "      <th>0</th>\n",
       "      <td>10</td>\n",
       "      <td>10</td>\n",
       "      <td>10</td>\n",
       "      <td>10</td>\n",
       "      <td>10</td>\n",
       "      <td>10</td>\n",
       "      <td>10</td>\n",
       "      <td>10</td>\n",
       "      <td>10</td>\n",
       "      <td>10</td>\n",
       "      <td>...</td>\n",
       "      <td>10</td>\n",
       "      <td>10</td>\n",
       "      <td>10</td>\n",
       "      <td>10</td>\n",
       "      <td>10</td>\n",
       "      <td>10</td>\n",
       "      <td>10</td>\n",
       "      <td>10</td>\n",
       "      <td>10</td>\n",
       "      <td>10</td>\n",
       "    </tr>\n",
       "    <tr>\n",
       "      <th rowspan=\"12\" valign=\"top\">1</th>\n",
       "      <th rowspan=\"6\" valign=\"top\">0</th>\n",
       "      <th rowspan=\"4\" valign=\"top\">0</th>\n",
       "      <th rowspan=\"2\" valign=\"top\">0</th>\n",
       "      <th>0</th>\n",
       "      <td>182745</td>\n",
       "      <td>182745</td>\n",
       "      <td>182745</td>\n",
       "      <td>182745</td>\n",
       "      <td>182745</td>\n",
       "      <td>182745</td>\n",
       "      <td>182745</td>\n",
       "      <td>182745</td>\n",
       "      <td>182745</td>\n",
       "      <td>182745</td>\n",
       "      <td>...</td>\n",
       "      <td>182745</td>\n",
       "      <td>182745</td>\n",
       "      <td>182745</td>\n",
       "      <td>182745</td>\n",
       "      <td>182745</td>\n",
       "      <td>182745</td>\n",
       "      <td>182745</td>\n",
       "      <td>182745</td>\n",
       "      <td>182745</td>\n",
       "      <td>182745</td>\n",
       "    </tr>\n",
       "    <tr>\n",
       "      <th>1</th>\n",
       "      <td>76</td>\n",
       "      <td>76</td>\n",
       "      <td>76</td>\n",
       "      <td>76</td>\n",
       "      <td>76</td>\n",
       "      <td>76</td>\n",
       "      <td>76</td>\n",
       "      <td>76</td>\n",
       "      <td>76</td>\n",
       "      <td>76</td>\n",
       "      <td>...</td>\n",
       "      <td>76</td>\n",
       "      <td>76</td>\n",
       "      <td>76</td>\n",
       "      <td>76</td>\n",
       "      <td>76</td>\n",
       "      <td>76</td>\n",
       "      <td>76</td>\n",
       "      <td>76</td>\n",
       "      <td>76</td>\n",
       "      <td>76</td>\n",
       "    </tr>\n",
       "    <tr>\n",
       "      <th rowspan=\"2\" valign=\"top\">1</th>\n",
       "      <th>0</th>\n",
       "      <td>845</td>\n",
       "      <td>845</td>\n",
       "      <td>845</td>\n",
       "      <td>845</td>\n",
       "      <td>845</td>\n",
       "      <td>845</td>\n",
       "      <td>845</td>\n",
       "      <td>845</td>\n",
       "      <td>845</td>\n",
       "      <td>845</td>\n",
       "      <td>...</td>\n",
       "      <td>845</td>\n",
       "      <td>845</td>\n",
       "      <td>845</td>\n",
       "      <td>845</td>\n",
       "      <td>845</td>\n",
       "      <td>845</td>\n",
       "      <td>845</td>\n",
       "      <td>845</td>\n",
       "      <td>845</td>\n",
       "      <td>845</td>\n",
       "    </tr>\n",
       "    <tr>\n",
       "      <th>1</th>\n",
       "      <td>1</td>\n",
       "      <td>1</td>\n",
       "      <td>1</td>\n",
       "      <td>1</td>\n",
       "      <td>1</td>\n",
       "      <td>1</td>\n",
       "      <td>1</td>\n",
       "      <td>1</td>\n",
       "      <td>1</td>\n",
       "      <td>1</td>\n",
       "      <td>...</td>\n",
       "      <td>1</td>\n",
       "      <td>1</td>\n",
       "      <td>1</td>\n",
       "      <td>1</td>\n",
       "      <td>1</td>\n",
       "      <td>1</td>\n",
       "      <td>1</td>\n",
       "      <td>1</td>\n",
       "      <td>1</td>\n",
       "      <td>1</td>\n",
       "    </tr>\n",
       "    <tr>\n",
       "      <th rowspan=\"2\" valign=\"top\">1</th>\n",
       "      <th>0</th>\n",
       "      <th>0</th>\n",
       "      <td>2005</td>\n",
       "      <td>2005</td>\n",
       "      <td>2005</td>\n",
       "      <td>2005</td>\n",
       "      <td>2005</td>\n",
       "      <td>2005</td>\n",
       "      <td>2005</td>\n",
       "      <td>2005</td>\n",
       "      <td>2005</td>\n",
       "      <td>2005</td>\n",
       "      <td>...</td>\n",
       "      <td>2005</td>\n",
       "      <td>2005</td>\n",
       "      <td>2005</td>\n",
       "      <td>2005</td>\n",
       "      <td>2005</td>\n",
       "      <td>2005</td>\n",
       "      <td>2005</td>\n",
       "      <td>2005</td>\n",
       "      <td>2005</td>\n",
       "      <td>2005</td>\n",
       "    </tr>\n",
       "    <tr>\n",
       "      <th>1</th>\n",
       "      <th>0</th>\n",
       "      <td>12</td>\n",
       "      <td>12</td>\n",
       "      <td>12</td>\n",
       "      <td>12</td>\n",
       "      <td>12</td>\n",
       "      <td>12</td>\n",
       "      <td>12</td>\n",
       "      <td>12</td>\n",
       "      <td>12</td>\n",
       "      <td>12</td>\n",
       "      <td>...</td>\n",
       "      <td>12</td>\n",
       "      <td>12</td>\n",
       "      <td>12</td>\n",
       "      <td>12</td>\n",
       "      <td>12</td>\n",
       "      <td>12</td>\n",
       "      <td>12</td>\n",
       "      <td>12</td>\n",
       "      <td>12</td>\n",
       "      <td>12</td>\n",
       "    </tr>\n",
       "    <tr>\n",
       "      <th rowspan=\"6\" valign=\"top\">1</th>\n",
       "      <th rowspan=\"3\" valign=\"top\">0</th>\n",
       "      <th rowspan=\"2\" valign=\"top\">0</th>\n",
       "      <th>0</th>\n",
       "      <td>9933</td>\n",
       "      <td>9933</td>\n",
       "      <td>9933</td>\n",
       "      <td>9933</td>\n",
       "      <td>9933</td>\n",
       "      <td>9933</td>\n",
       "      <td>9933</td>\n",
       "      <td>9933</td>\n",
       "      <td>9933</td>\n",
       "      <td>9933</td>\n",
       "      <td>...</td>\n",
       "      <td>9933</td>\n",
       "      <td>9933</td>\n",
       "      <td>9933</td>\n",
       "      <td>9933</td>\n",
       "      <td>9933</td>\n",
       "      <td>9933</td>\n",
       "      <td>9933</td>\n",
       "      <td>9933</td>\n",
       "      <td>9933</td>\n",
       "      <td>9933</td>\n",
       "    </tr>\n",
       "    <tr>\n",
       "      <th>1</th>\n",
       "      <td>11</td>\n",
       "      <td>11</td>\n",
       "      <td>11</td>\n",
       "      <td>11</td>\n",
       "      <td>11</td>\n",
       "      <td>11</td>\n",
       "      <td>11</td>\n",
       "      <td>11</td>\n",
       "      <td>11</td>\n",
       "      <td>11</td>\n",
       "      <td>...</td>\n",
       "      <td>11</td>\n",
       "      <td>11</td>\n",
       "      <td>11</td>\n",
       "      <td>11</td>\n",
       "      <td>11</td>\n",
       "      <td>11</td>\n",
       "      <td>11</td>\n",
       "      <td>11</td>\n",
       "      <td>11</td>\n",
       "      <td>11</td>\n",
       "    </tr>\n",
       "    <tr>\n",
       "      <th>1</th>\n",
       "      <th>0</th>\n",
       "      <td>51</td>\n",
       "      <td>51</td>\n",
       "      <td>51</td>\n",
       "      <td>51</td>\n",
       "      <td>51</td>\n",
       "      <td>51</td>\n",
       "      <td>51</td>\n",
       "      <td>51</td>\n",
       "      <td>51</td>\n",
       "      <td>51</td>\n",
       "      <td>...</td>\n",
       "      <td>51</td>\n",
       "      <td>51</td>\n",
       "      <td>51</td>\n",
       "      <td>51</td>\n",
       "      <td>51</td>\n",
       "      <td>51</td>\n",
       "      <td>51</td>\n",
       "      <td>51</td>\n",
       "      <td>51</td>\n",
       "      <td>51</td>\n",
       "    </tr>\n",
       "    <tr>\n",
       "      <th rowspan=\"3\" valign=\"top\">1</th>\n",
       "      <th rowspan=\"2\" valign=\"top\">0</th>\n",
       "      <th>0</th>\n",
       "      <td>241</td>\n",
       "      <td>241</td>\n",
       "      <td>241</td>\n",
       "      <td>241</td>\n",
       "      <td>241</td>\n",
       "      <td>241</td>\n",
       "      <td>241</td>\n",
       "      <td>241</td>\n",
       "      <td>241</td>\n",
       "      <td>241</td>\n",
       "      <td>...</td>\n",
       "      <td>241</td>\n",
       "      <td>241</td>\n",
       "      <td>241</td>\n",
       "      <td>241</td>\n",
       "      <td>241</td>\n",
       "      <td>241</td>\n",
       "      <td>241</td>\n",
       "      <td>241</td>\n",
       "      <td>241</td>\n",
       "      <td>241</td>\n",
       "    </tr>\n",
       "    <tr>\n",
       "      <th>1</th>\n",
       "      <td>1</td>\n",
       "      <td>1</td>\n",
       "      <td>1</td>\n",
       "      <td>1</td>\n",
       "      <td>1</td>\n",
       "      <td>1</td>\n",
       "      <td>1</td>\n",
       "      <td>1</td>\n",
       "      <td>1</td>\n",
       "      <td>1</td>\n",
       "      <td>...</td>\n",
       "      <td>1</td>\n",
       "      <td>1</td>\n",
       "      <td>1</td>\n",
       "      <td>1</td>\n",
       "      <td>1</td>\n",
       "      <td>1</td>\n",
       "      <td>1</td>\n",
       "      <td>1</td>\n",
       "      <td>1</td>\n",
       "      <td>1</td>\n",
       "    </tr>\n",
       "    <tr>\n",
       "      <th>1</th>\n",
       "      <th>0</th>\n",
       "      <td>3</td>\n",
       "      <td>3</td>\n",
       "      <td>3</td>\n",
       "      <td>3</td>\n",
       "      <td>3</td>\n",
       "      <td>3</td>\n",
       "      <td>3</td>\n",
       "      <td>3</td>\n",
       "      <td>3</td>\n",
       "      <td>3</td>\n",
       "      <td>...</td>\n",
       "      <td>3</td>\n",
       "      <td>3</td>\n",
       "      <td>3</td>\n",
       "      <td>3</td>\n",
       "      <td>3</td>\n",
       "      <td>3</td>\n",
       "      <td>3</td>\n",
       "      <td>3</td>\n",
       "      <td>3</td>\n",
       "      <td>3</td>\n",
       "    </tr>\n",
       "  </tbody>\n",
       "</table>\n",
       "<p>24 rows × 36 columns</p>\n",
       "</div>"
      ],
      "text/plain": [
       "                                                                                UniqueID  \\\n",
       "MobileNo_Avl_Flag Aadhar_flag PAN_flag VoterID_flag Driving_flag Passport_flag             \n",
       "1                 0           0        0            0            1                   369   \n",
       "                                                    1            0                  4051   \n",
       "                                                                 1                     3   \n",
       "                                       1            0            0                 25251   \n",
       "                                                                 1                     5   \n",
       "                                                    1            0                   170   \n",
       "                              1        0            0            0                   973   \n",
       "                                                                 1                    29   \n",
       "                                                    1            0                   273   \n",
       "                                       1            0            0                  6095   \n",
       "                                                                 1                     1   \n",
       "                                                    1            0                    10   \n",
       "                  1           0        0            0            0                182745   \n",
       "                                                                 1                    76   \n",
       "                                                    1            0                   845   \n",
       "                                                                 1                     1   \n",
       "                                       1            0            0                  2005   \n",
       "                                                    1            0                    12   \n",
       "                              1        0            0            0                  9933   \n",
       "                                                                 1                    11   \n",
       "                                                    1            0                    51   \n",
       "                                       1            0            0                   241   \n",
       "                                                                 1                     1   \n",
       "                                                    1            0                     3   \n",
       "\n",
       "                                                                                disbursed_amount  \\\n",
       "MobileNo_Avl_Flag Aadhar_flag PAN_flag VoterID_flag Driving_flag Passport_flag                     \n",
       "1                 0           0        0            0            1                           369   \n",
       "                                                    1            0                          4051   \n",
       "                                                                 1                             3   \n",
       "                                       1            0            0                         25251   \n",
       "                                                                 1                             5   \n",
       "                                                    1            0                           170   \n",
       "                              1        0            0            0                           973   \n",
       "                                                                 1                            29   \n",
       "                                                    1            0                           273   \n",
       "                                       1            0            0                          6095   \n",
       "                                                                 1                             1   \n",
       "                                                    1            0                            10   \n",
       "                  1           0        0            0            0                        182745   \n",
       "                                                                 1                            76   \n",
       "                                                    1            0                           845   \n",
       "                                                                 1                             1   \n",
       "                                       1            0            0                          2005   \n",
       "                                                    1            0                            12   \n",
       "                              1        0            0            0                          9933   \n",
       "                                                                 1                            11   \n",
       "                                                    1            0                            51   \n",
       "                                       1            0            0                           241   \n",
       "                                                                 1                             1   \n",
       "                                                    1            0                             3   \n",
       "\n",
       "                                                                                asset_cost  \\\n",
       "MobileNo_Avl_Flag Aadhar_flag PAN_flag VoterID_flag Driving_flag Passport_flag               \n",
       "1                 0           0        0            0            1                     369   \n",
       "                                                    1            0                    4051   \n",
       "                                                                 1                       3   \n",
       "                                       1            0            0                   25251   \n",
       "                                                                 1                       5   \n",
       "                                                    1            0                     170   \n",
       "                              1        0            0            0                     973   \n",
       "                                                                 1                      29   \n",
       "                                                    1            0                     273   \n",
       "                                       1            0            0                    6095   \n",
       "                                                                 1                       1   \n",
       "                                                    1            0                      10   \n",
       "                  1           0        0            0            0                  182745   \n",
       "                                                                 1                      76   \n",
       "                                                    1            0                     845   \n",
       "                                                                 1                       1   \n",
       "                                       1            0            0                    2005   \n",
       "                                                    1            0                      12   \n",
       "                              1        0            0            0                    9933   \n",
       "                                                                 1                      11   \n",
       "                                                    1            0                      51   \n",
       "                                       1            0            0                     241   \n",
       "                                                                 1                       1   \n",
       "                                                    1            0                       3   \n",
       "\n",
       "                                                                                   ltv  \\\n",
       "MobileNo_Avl_Flag Aadhar_flag PAN_flag VoterID_flag Driving_flag Passport_flag           \n",
       "1                 0           0        0            0            1                 369   \n",
       "                                                    1            0                4051   \n",
       "                                                                 1                   3   \n",
       "                                       1            0            0               25251   \n",
       "                                                                 1                   5   \n",
       "                                                    1            0                 170   \n",
       "                              1        0            0            0                 973   \n",
       "                                                                 1                  29   \n",
       "                                                    1            0                 273   \n",
       "                                       1            0            0                6095   \n",
       "                                                                 1                   1   \n",
       "                                                    1            0                  10   \n",
       "                  1           0        0            0            0              182745   \n",
       "                                                                 1                  76   \n",
       "                                                    1            0                 845   \n",
       "                                                                 1                   1   \n",
       "                                       1            0            0                2005   \n",
       "                                                    1            0                  12   \n",
       "                              1        0            0            0                9933   \n",
       "                                                                 1                  11   \n",
       "                                                    1            0                  51   \n",
       "                                       1            0            0                 241   \n",
       "                                                                 1                   1   \n",
       "                                                    1            0                   3   \n",
       "\n",
       "                                                                                branch_id  \\\n",
       "MobileNo_Avl_Flag Aadhar_flag PAN_flag VoterID_flag Driving_flag Passport_flag              \n",
       "1                 0           0        0            0            1                    369   \n",
       "                                                    1            0                   4051   \n",
       "                                                                 1                      3   \n",
       "                                       1            0            0                  25251   \n",
       "                                                                 1                      5   \n",
       "                                                    1            0                    170   \n",
       "                              1        0            0            0                    973   \n",
       "                                                                 1                     29   \n",
       "                                                    1            0                    273   \n",
       "                                       1            0            0                   6095   \n",
       "                                                                 1                      1   \n",
       "                                                    1            0                     10   \n",
       "                  1           0        0            0            0                 182745   \n",
       "                                                                 1                     76   \n",
       "                                                    1            0                    845   \n",
       "                                                                 1                      1   \n",
       "                                       1            0            0                   2005   \n",
       "                                                    1            0                     12   \n",
       "                              1        0            0            0                   9933   \n",
       "                                                                 1                     11   \n",
       "                                                    1            0                     51   \n",
       "                                       1            0            0                    241   \n",
       "                                                                 1                      1   \n",
       "                                                    1            0                      3   \n",
       "\n",
       "                                                                                supplier_id  \\\n",
       "MobileNo_Avl_Flag Aadhar_flag PAN_flag VoterID_flag Driving_flag Passport_flag                \n",
       "1                 0           0        0            0            1                      369   \n",
       "                                                    1            0                     4051   \n",
       "                                                                 1                        3   \n",
       "                                       1            0            0                    25251   \n",
       "                                                                 1                        5   \n",
       "                                                    1            0                      170   \n",
       "                              1        0            0            0                      973   \n",
       "                                                                 1                       29   \n",
       "                                                    1            0                      273   \n",
       "                                       1            0            0                     6095   \n",
       "                                                                 1                        1   \n",
       "                                                    1            0                       10   \n",
       "                  1           0        0            0            0                   182745   \n",
       "                                                                 1                       76   \n",
       "                                                    1            0                      845   \n",
       "                                                                 1                        1   \n",
       "                                       1            0            0                     2005   \n",
       "                                                    1            0                       12   \n",
       "                              1        0            0            0                     9933   \n",
       "                                                                 1                       11   \n",
       "                                                    1            0                       51   \n",
       "                                       1            0            0                      241   \n",
       "                                                                 1                        1   \n",
       "                                                    1            0                        3   \n",
       "\n",
       "                                                                                manufacturer_id  \\\n",
       "MobileNo_Avl_Flag Aadhar_flag PAN_flag VoterID_flag Driving_flag Passport_flag                    \n",
       "1                 0           0        0            0            1                          369   \n",
       "                                                    1            0                         4051   \n",
       "                                                                 1                            3   \n",
       "                                       1            0            0                        25251   \n",
       "                                                                 1                            5   \n",
       "                                                    1            0                          170   \n",
       "                              1        0            0            0                          973   \n",
       "                                                                 1                           29   \n",
       "                                                    1            0                          273   \n",
       "                                       1            0            0                         6095   \n",
       "                                                                 1                            1   \n",
       "                                                    1            0                           10   \n",
       "                  1           0        0            0            0                       182745   \n",
       "                                                                 1                           76   \n",
       "                                                    1            0                          845   \n",
       "                                                                 1                            1   \n",
       "                                       1            0            0                         2005   \n",
       "                                                    1            0                           12   \n",
       "                              1        0            0            0                         9933   \n",
       "                                                                 1                           11   \n",
       "                                                    1            0                           51   \n",
       "                                       1            0            0                          241   \n",
       "                                                                 1                            1   \n",
       "                                                    1            0                            3   \n",
       "\n",
       "                                                                                Current_pincode_ID  \\\n",
       "MobileNo_Avl_Flag Aadhar_flag PAN_flag VoterID_flag Driving_flag Passport_flag                       \n",
       "1                 0           0        0            0            1                             369   \n",
       "                                                    1            0                            4051   \n",
       "                                                                 1                               3   \n",
       "                                       1            0            0                           25251   \n",
       "                                                                 1                               5   \n",
       "                                                    1            0                             170   \n",
       "                              1        0            0            0                             973   \n",
       "                                                                 1                              29   \n",
       "                                                    1            0                             273   \n",
       "                                       1            0            0                            6095   \n",
       "                                                                 1                               1   \n",
       "                                                    1            0                              10   \n",
       "                  1           0        0            0            0                          182745   \n",
       "                                                                 1                              76   \n",
       "                                                    1            0                             845   \n",
       "                                                                 1                               1   \n",
       "                                       1            0            0                            2005   \n",
       "                                                    1            0                              12   \n",
       "                              1        0            0            0                            9933   \n",
       "                                                                 1                              11   \n",
       "                                                    1            0                              51   \n",
       "                                       1            0            0                             241   \n",
       "                                                                 1                               1   \n",
       "                                                    1            0                               3   \n",
       "\n",
       "                                                                                Date_of_Birth  \\\n",
       "MobileNo_Avl_Flag Aadhar_flag PAN_flag VoterID_flag Driving_flag Passport_flag                  \n",
       "1                 0           0        0            0            1                        369   \n",
       "                                                    1            0                       4051   \n",
       "                                                                 1                          3   \n",
       "                                       1            0            0                      25251   \n",
       "                                                                 1                          5   \n",
       "                                                    1            0                        170   \n",
       "                              1        0            0            0                        973   \n",
       "                                                                 1                         29   \n",
       "                                                    1            0                        273   \n",
       "                                       1            0            0                       6095   \n",
       "                                                                 1                          1   \n",
       "                                                    1            0                         10   \n",
       "                  1           0        0            0            0                     182745   \n",
       "                                                                 1                         76   \n",
       "                                                    1            0                        845   \n",
       "                                                                 1                          1   \n",
       "                                       1            0            0                       2005   \n",
       "                                                    1            0                         12   \n",
       "                              1        0            0            0                       9933   \n",
       "                                                                 1                         11   \n",
       "                                                    1            0                         51   \n",
       "                                       1            0            0                        241   \n",
       "                                                                 1                          1   \n",
       "                                                    1            0                          3   \n",
       "\n",
       "                                                                                Employment_Type  \\\n",
       "MobileNo_Avl_Flag Aadhar_flag PAN_flag VoterID_flag Driving_flag Passport_flag                    \n",
       "1                 0           0        0            0            1                          369   \n",
       "                                                    1            0                         4051   \n",
       "                                                                 1                            3   \n",
       "                                       1            0            0                        25251   \n",
       "                                                                 1                            5   \n",
       "                                                    1            0                          170   \n",
       "                              1        0            0            0                          973   \n",
       "                                                                 1                           29   \n",
       "                                                    1            0                          273   \n",
       "                                       1            0            0                         6095   \n",
       "                                                                 1                            1   \n",
       "                                                    1            0                           10   \n",
       "                  1           0        0            0            0                       182745   \n",
       "                                                                 1                           76   \n",
       "                                                    1            0                          845   \n",
       "                                                                 1                            1   \n",
       "                                       1            0            0                         2005   \n",
       "                                                    1            0                           12   \n",
       "                              1        0            0            0                         9933   \n",
       "                                                                 1                           11   \n",
       "                                                    1            0                           51   \n",
       "                                       1            0            0                          241   \n",
       "                                                                 1                            1   \n",
       "                                                    1            0                            3   \n",
       "\n",
       "                                                                                ...  \\\n",
       "MobileNo_Avl_Flag Aadhar_flag PAN_flag VoterID_flag Driving_flag Passport_flag  ...   \n",
       "1                 0           0        0            0            1              ...   \n",
       "                                                    1            0              ...   \n",
       "                                                                 1              ...   \n",
       "                                       1            0            0              ...   \n",
       "                                                                 1              ...   \n",
       "                                                    1            0              ...   \n",
       "                              1        0            0            0              ...   \n",
       "                                                                 1              ...   \n",
       "                                                    1            0              ...   \n",
       "                                       1            0            0              ...   \n",
       "                                                                 1              ...   \n",
       "                                                    1            0              ...   \n",
       "                  1           0        0            0            0              ...   \n",
       "                                                                 1              ...   \n",
       "                                                    1            0              ...   \n",
       "                                                                 1              ...   \n",
       "                                       1            0            0              ...   \n",
       "                                                    1            0              ...   \n",
       "                              1        0            0            0              ...   \n",
       "                                                                 1              ...   \n",
       "                                                    1            0              ...   \n",
       "                                       1            0            0              ...   \n",
       "                                                                 1              ...   \n",
       "                                                    1            0              ...   \n",
       "\n",
       "                                                                                SEC_DISBURSED_AMOUNT  \\\n",
       "MobileNo_Avl_Flag Aadhar_flag PAN_flag VoterID_flag Driving_flag Passport_flag                         \n",
       "1                 0           0        0            0            1                               369   \n",
       "                                                    1            0                              4051   \n",
       "                                                                 1                                 3   \n",
       "                                       1            0            0                             25251   \n",
       "                                                                 1                                 5   \n",
       "                                                    1            0                               170   \n",
       "                              1        0            0            0                               973   \n",
       "                                                                 1                                29   \n",
       "                                                    1            0                               273   \n",
       "                                       1            0            0                              6095   \n",
       "                                                                 1                                 1   \n",
       "                                                    1            0                                10   \n",
       "                  1           0        0            0            0                            182745   \n",
       "                                                                 1                                76   \n",
       "                                                    1            0                               845   \n",
       "                                                                 1                                 1   \n",
       "                                       1            0            0                              2005   \n",
       "                                                    1            0                                12   \n",
       "                              1        0            0            0                              9933   \n",
       "                                                                 1                                11   \n",
       "                                                    1            0                                51   \n",
       "                                       1            0            0                               241   \n",
       "                                                                 1                                 1   \n",
       "                                                    1            0                                 3   \n",
       "\n",
       "                                                                                PRIMARY_INSTAL_AMT  \\\n",
       "MobileNo_Avl_Flag Aadhar_flag PAN_flag VoterID_flag Driving_flag Passport_flag                       \n",
       "1                 0           0        0            0            1                             369   \n",
       "                                                    1            0                            4051   \n",
       "                                                                 1                               3   \n",
       "                                       1            0            0                           25251   \n",
       "                                                                 1                               5   \n",
       "                                                    1            0                             170   \n",
       "                              1        0            0            0                             973   \n",
       "                                                                 1                              29   \n",
       "                                                    1            0                             273   \n",
       "                                       1            0            0                            6095   \n",
       "                                                                 1                               1   \n",
       "                                                    1            0                              10   \n",
       "                  1           0        0            0            0                          182745   \n",
       "                                                                 1                              76   \n",
       "                                                    1            0                             845   \n",
       "                                                                 1                               1   \n",
       "                                       1            0            0                            2005   \n",
       "                                                    1            0                              12   \n",
       "                              1        0            0            0                            9933   \n",
       "                                                                 1                              11   \n",
       "                                                    1            0                              51   \n",
       "                                       1            0            0                             241   \n",
       "                                                                 1                               1   \n",
       "                                                    1            0                               3   \n",
       "\n",
       "                                                                                SEC_INSTAL_AMT  \\\n",
       "MobileNo_Avl_Flag Aadhar_flag PAN_flag VoterID_flag Driving_flag Passport_flag                   \n",
       "1                 0           0        0            0            1                         369   \n",
       "                                                    1            0                        4051   \n",
       "                                                                 1                           3   \n",
       "                                       1            0            0                       25251   \n",
       "                                                                 1                           5   \n",
       "                                                    1            0                         170   \n",
       "                              1        0            0            0                         973   \n",
       "                                                                 1                          29   \n",
       "                                                    1            0                         273   \n",
       "                                       1            0            0                        6095   \n",
       "                                                                 1                           1   \n",
       "                                                    1            0                          10   \n",
       "                  1           0        0            0            0                      182745   \n",
       "                                                                 1                          76   \n",
       "                                                    1            0                         845   \n",
       "                                                                 1                           1   \n",
       "                                       1            0            0                        2005   \n",
       "                                                    1            0                          12   \n",
       "                              1        0            0            0                        9933   \n",
       "                                                                 1                          11   \n",
       "                                                    1            0                          51   \n",
       "                                       1            0            0                         241   \n",
       "                                                                 1                           1   \n",
       "                                                    1            0                           3   \n",
       "\n",
       "                                                                                NEW_ACCTS_IN_LAST_SIX_MONTHS  \\\n",
       "MobileNo_Avl_Flag Aadhar_flag PAN_flag VoterID_flag Driving_flag Passport_flag                                 \n",
       "1                 0           0        0            0            1                                       369   \n",
       "                                                    1            0                                      4051   \n",
       "                                                                 1                                         3   \n",
       "                                       1            0            0                                     25251   \n",
       "                                                                 1                                         5   \n",
       "                                                    1            0                                       170   \n",
       "                              1        0            0            0                                       973   \n",
       "                                                                 1                                        29   \n",
       "                                                    1            0                                       273   \n",
       "                                       1            0            0                                      6095   \n",
       "                                                                 1                                         1   \n",
       "                                                    1            0                                        10   \n",
       "                  1           0        0            0            0                                    182745   \n",
       "                                                                 1                                        76   \n",
       "                                                    1            0                                       845   \n",
       "                                                                 1                                         1   \n",
       "                                       1            0            0                                      2005   \n",
       "                                                    1            0                                        12   \n",
       "                              1        0            0            0                                      9933   \n",
       "                                                                 1                                        11   \n",
       "                                                    1            0                                        51   \n",
       "                                       1            0            0                                       241   \n",
       "                                                                 1                                         1   \n",
       "                                                    1            0                                         3   \n",
       "\n",
       "                                                                                DELINQUENT_ACCTS_IN_LAST_SIX_MONTHS  \\\n",
       "MobileNo_Avl_Flag Aadhar_flag PAN_flag VoterID_flag Driving_flag Passport_flag                                        \n",
       "1                 0           0        0            0            1                                              369   \n",
       "                                                    1            0                                             4051   \n",
       "                                                                 1                                                3   \n",
       "                                       1            0            0                                            25251   \n",
       "                                                                 1                                                5   \n",
       "                                                    1            0                                              170   \n",
       "                              1        0            0            0                                              973   \n",
       "                                                                 1                                               29   \n",
       "                                                    1            0                                              273   \n",
       "                                       1            0            0                                             6095   \n",
       "                                                                 1                                                1   \n",
       "                                                    1            0                                               10   \n",
       "                  1           0        0            0            0                                           182745   \n",
       "                                                                 1                                               76   \n",
       "                                                    1            0                                              845   \n",
       "                                                                 1                                                1   \n",
       "                                       1            0            0                                             2005   \n",
       "                                                    1            0                                               12   \n",
       "                              1        0            0            0                                             9933   \n",
       "                                                                 1                                               11   \n",
       "                                                    1            0                                               51   \n",
       "                                       1            0            0                                              241   \n",
       "                                                                 1                                                1   \n",
       "                                                    1            0                                                3   \n",
       "\n",
       "                                                                                AVERAGE_ACCT_AGE  \\\n",
       "MobileNo_Avl_Flag Aadhar_flag PAN_flag VoterID_flag Driving_flag Passport_flag                     \n",
       "1                 0           0        0            0            1                           369   \n",
       "                                                    1            0                          4051   \n",
       "                                                                 1                             3   \n",
       "                                       1            0            0                         25251   \n",
       "                                                                 1                             5   \n",
       "                                                    1            0                           170   \n",
       "                              1        0            0            0                           973   \n",
       "                                                                 1                            29   \n",
       "                                                    1            0                           273   \n",
       "                                       1            0            0                          6095   \n",
       "                                                                 1                             1   \n",
       "                                                    1            0                            10   \n",
       "                  1           0        0            0            0                        182745   \n",
       "                                                                 1                            76   \n",
       "                                                    1            0                           845   \n",
       "                                                                 1                             1   \n",
       "                                       1            0            0                          2005   \n",
       "                                                    1            0                            12   \n",
       "                              1        0            0            0                          9933   \n",
       "                                                                 1                            11   \n",
       "                                                    1            0                            51   \n",
       "                                       1            0            0                           241   \n",
       "                                                                 1                             1   \n",
       "                                                    1            0                             3   \n",
       "\n",
       "                                                                                CREDIT_HISTORY_LENGTH  \\\n",
       "MobileNo_Avl_Flag Aadhar_flag PAN_flag VoterID_flag Driving_flag Passport_flag                          \n",
       "1                 0           0        0            0            1                                369   \n",
       "                                                    1            0                               4051   \n",
       "                                                                 1                                  3   \n",
       "                                       1            0            0                              25251   \n",
       "                                                                 1                                  5   \n",
       "                                                    1            0                                170   \n",
       "                              1        0            0            0                                973   \n",
       "                                                                 1                                 29   \n",
       "                                                    1            0                                273   \n",
       "                                       1            0            0                               6095   \n",
       "                                                                 1                                  1   \n",
       "                                                    1            0                                 10   \n",
       "                  1           0        0            0            0                             182745   \n",
       "                                                                 1                                 76   \n",
       "                                                    1            0                                845   \n",
       "                                                                 1                                  1   \n",
       "                                       1            0            0                               2005   \n",
       "                                                    1            0                                 12   \n",
       "                              1        0            0            0                               9933   \n",
       "                                                                 1                                 11   \n",
       "                                                    1            0                                 51   \n",
       "                                       1            0            0                                241   \n",
       "                                                                 1                                  1   \n",
       "                                                    1            0                                  3   \n",
       "\n",
       "                                                                                NO_OF_INQUIRIES  \\\n",
       "MobileNo_Avl_Flag Aadhar_flag PAN_flag VoterID_flag Driving_flag Passport_flag                    \n",
       "1                 0           0        0            0            1                          369   \n",
       "                                                    1            0                         4051   \n",
       "                                                                 1                            3   \n",
       "                                       1            0            0                        25251   \n",
       "                                                                 1                            5   \n",
       "                                                    1            0                          170   \n",
       "                              1        0            0            0                          973   \n",
       "                                                                 1                           29   \n",
       "                                                    1            0                          273   \n",
       "                                       1            0            0                         6095   \n",
       "                                                                 1                            1   \n",
       "                                                    1            0                           10   \n",
       "                  1           0        0            0            0                       182745   \n",
       "                                                                 1                           76   \n",
       "                                                    1            0                          845   \n",
       "                                                                 1                            1   \n",
       "                                       1            0            0                         2005   \n",
       "                                                    1            0                           12   \n",
       "                              1        0            0            0                         9933   \n",
       "                                                                 1                           11   \n",
       "                                                    1            0                           51   \n",
       "                                       1            0            0                          241   \n",
       "                                                                 1                            1   \n",
       "                                                    1            0                            3   \n",
       "\n",
       "                                                                                loan_default  \\\n",
       "MobileNo_Avl_Flag Aadhar_flag PAN_flag VoterID_flag Driving_flag Passport_flag                 \n",
       "1                 0           0        0            0            1                       369   \n",
       "                                                    1            0                      4051   \n",
       "                                                                 1                         3   \n",
       "                                       1            0            0                     25251   \n",
       "                                                                 1                         5   \n",
       "                                                    1            0                       170   \n",
       "                              1        0            0            0                       973   \n",
       "                                                                 1                        29   \n",
       "                                                    1            0                       273   \n",
       "                                       1            0            0                      6095   \n",
       "                                                                 1                         1   \n",
       "                                                    1            0                        10   \n",
       "                  1           0        0            0            0                    182745   \n",
       "                                                                 1                        76   \n",
       "                                                    1            0                       845   \n",
       "                                                                 1                         1   \n",
       "                                       1            0            0                      2005   \n",
       "                                                    1            0                        12   \n",
       "                              1        0            0            0                      9933   \n",
       "                                                                 1                        11   \n",
       "                                                    1            0                        51   \n",
       "                                       1            0            0                       241   \n",
       "                                                                 1                         1   \n",
       "                                                    1            0                         3   \n",
       "\n",
       "                                                                                   Age  \n",
       "MobileNo_Avl_Flag Aadhar_flag PAN_flag VoterID_flag Driving_flag Passport_flag          \n",
       "1                 0           0        0            0            1                 369  \n",
       "                                                    1            0                4051  \n",
       "                                                                 1                   3  \n",
       "                                       1            0            0               25251  \n",
       "                                                                 1                   5  \n",
       "                                                    1            0                 170  \n",
       "                              1        0            0            0                 973  \n",
       "                                                                 1                  29  \n",
       "                                                    1            0                 273  \n",
       "                                       1            0            0                6095  \n",
       "                                                                 1                   1  \n",
       "                                                    1            0                  10  \n",
       "                  1           0        0            0            0              182745  \n",
       "                                                                 1                  76  \n",
       "                                                    1            0                 845  \n",
       "                                                                 1                   1  \n",
       "                                       1            0            0                2005  \n",
       "                                                    1            0                  12  \n",
       "                              1        0            0            0                9933  \n",
       "                                                                 1                  11  \n",
       "                                                    1            0                  51  \n",
       "                                       1            0            0                 241  \n",
       "                                                                 1                   1  \n",
       "                                                    1            0                   3  \n",
       "\n",
       "[24 rows x 36 columns]"
      ]
     },
     "execution_count": 300,
     "metadata": {},
     "output_type": "execute_result"
    }
   ],
   "source": [
    "loan.groupby(['MobileNo_Avl_Flag','Aadhar_flag','PAN_flag','VoterID_flag','Driving_flag','Passport_flag']).count()"
   ]
  },
  {
   "cell_type": "code",
   "execution_count": 206,
   "id": "51db9b02-1311-4f5e-bb9f-f90d0adf9429",
   "metadata": {},
   "outputs": [],
   "source": [
    "## Max Customers submitted aadhar card."
   ]
  },
  {
   "cell_type": "code",
   "execution_count": 301,
   "id": "dcbc0d91-f8e1-48b6-afc4-141558805c2a",
   "metadata": {},
   "outputs": [
    {
     "data": {
      "image/png": "[encoded data removed]",
      "text/plain": [
       "<Figure size 432x288 with 1 Axes>"
      ]
     },
     "metadata": {
      "needs_background": "light"
     },
     "output_type": "display_data"
    }
   ],
   "source": [
    "sns.histplot(data = loan.PERFORM_CNS_SCORE,x=loan.loan_default,kde=True)\n",
    "plt.show()"
   ]
  },
  {
   "cell_type": "code",
   "execution_count": 304,
   "id": "9b361c00-d8a6-43a5-99c6-69b5386cd02d",
   "metadata": {},
   "outputs": [],
   "source": [
    "x=loan.groupby(['NO_OF_INQUIRIES']).agg({'PERFORM_CNS_SCORE_DESCRIPTION':sum})"
   ]
  },
  {
   "cell_type": "code",
   "execution_count": 303,
   "id": "6f9b6499-ca19-45f6-9fc9-3f4fa2177e63",
   "metadata": {},
   "outputs": [
    {
     "data": {
      "text/html": [
       "<div>\n",
       "<style scoped>\n",
       "    .dataframe tbody tr th:only-of-type {\n",
       "        vertical-align: middle;\n",
       "    }\n",
       "\n",
       "    .dataframe tbody tr th {\n",
       "        vertical-align: top;\n",
       "    }\n",
       "\n",
       "    .dataframe thead th {\n",
       "        text-align: right;\n",
       "    }\n",
       "</style>\n",
       "<table border=\"1\" class=\"dataframe\">\n",
       "  <thead>\n",
       "    <tr style=\"text-align: right;\">\n",
       "      <th></th>\n",
       "      <th>PERFORM_CNS_SCORE_DESCRIPTION</th>\n",
       "    </tr>\n",
       "    <tr>\n",
       "      <th>NO_OF_INQUIRIES</th>\n",
       "      <th></th>\n",
       "    </tr>\n",
       "  </thead>\n",
       "  <tbody>\n",
       "    <tr>\n",
       "      <th>36</th>\n",
       "      <td>D-Very Low Risk</td>\n",
       "    </tr>\n",
       "    <tr>\n",
       "      <th>28</th>\n",
       "      <td>C-Very Low Risk</td>\n",
       "    </tr>\n",
       "    <tr>\n",
       "      <th>23</th>\n",
       "      <td>D-Very Low Risk</td>\n",
       "    </tr>\n",
       "    <tr>\n",
       "      <th>22</th>\n",
       "      <td>Not Scored: Sufficient History Not Available</td>\n",
       "    </tr>\n",
       "    <tr>\n",
       "      <th>20</th>\n",
       "      <td>D-Very Low Risk</td>\n",
       "    </tr>\n",
       "    <tr>\n",
       "      <th>19</th>\n",
       "      <td>A-Very Low RiskA-Very Low RiskA-Very Low RiskC...</td>\n",
       "    </tr>\n",
       "    <tr>\n",
       "      <th>18</th>\n",
       "      <td>C-Very Low RiskC-Very Low RiskC-Very Low RiskD...</td>\n",
       "    </tr>\n",
       "    <tr>\n",
       "      <th>17</th>\n",
       "      <td>A-Very Low RiskC-Very Low RiskC-Very Low RiskD...</td>\n",
       "    </tr>\n",
       "    <tr>\n",
       "      <th>16</th>\n",
       "      <td>A-Very Low RiskD-Very Low RiskD-Very Low Risk</td>\n",
       "    </tr>\n",
       "    <tr>\n",
       "      <th>15</th>\n",
       "      <td>A-Very Low RiskC-Very Low RiskC-Very Low RiskC...</td>\n",
       "    </tr>\n",
       "    <tr>\n",
       "      <th>14</th>\n",
       "      <td>C-Very Low RiskD-Very Low RiskD-Very Low RiskD...</td>\n",
       "    </tr>\n",
       "    <tr>\n",
       "      <th>13</th>\n",
       "      <td>A-Very Low RiskC-Very Low RiskC-Very Low RiskC...</td>\n",
       "    </tr>\n",
       "    <tr>\n",
       "      <th>12</th>\n",
       "      <td>No Bureau History AvailableA-Very Low RiskB-Ve...</td>\n",
       "    </tr>\n",
       "    <tr>\n",
       "      <th>11</th>\n",
       "      <td>B-Very Low RiskC-Very Low RiskC-Very Low RiskC...</td>\n",
       "    </tr>\n",
       "    <tr>\n",
       "      <th>10</th>\n",
       "      <td>No Bureau History AvailableA-Very Low RiskA-Ve...</td>\n",
       "    </tr>\n",
       "    <tr>\n",
       "      <th>9</th>\n",
       "      <td>No Bureau History AvailableNo Bureau History A...</td>\n",
       "    </tr>\n",
       "    <tr>\n",
       "      <th>8</th>\n",
       "      <td>No Bureau History AvailableNo Bureau History A...</td>\n",
       "    </tr>\n",
       "    <tr>\n",
       "      <th>7</th>\n",
       "      <td>No Bureau History AvailableNo Bureau History A...</td>\n",
       "    </tr>\n",
       "    <tr>\n",
       "      <th>6</th>\n",
       "      <td>No Bureau History AvailableNo Bureau History A...</td>\n",
       "    </tr>\n",
       "    <tr>\n",
       "      <th>5</th>\n",
       "      <td>No Bureau History AvailableNo Bureau History A...</td>\n",
       "    </tr>\n",
       "    <tr>\n",
       "      <th>4</th>\n",
       "      <td>No Bureau History AvailableNo Bureau History A...</td>\n",
       "    </tr>\n",
       "    <tr>\n",
       "      <th>3</th>\n",
       "      <td>No Bureau History AvailableNo Bureau History A...</td>\n",
       "    </tr>\n",
       "    <tr>\n",
       "      <th>2</th>\n",
       "      <td>No Bureau History AvailableNo Bureau History A...</td>\n",
       "    </tr>\n",
       "    <tr>\n",
       "      <th>1</th>\n",
       "      <td>No Bureau History AvailableNo Bureau History A...</td>\n",
       "    </tr>\n",
       "    <tr>\n",
       "      <th>0</th>\n",
       "      <td>No Bureau History AvailableNo Bureau History A...</td>\n",
       "    </tr>\n",
       "  </tbody>\n",
       "</table>\n",
       "</div>"
      ],
      "text/plain": [
       "                                     PERFORM_CNS_SCORE_DESCRIPTION\n",
       "NO_OF_INQUIRIES                                                   \n",
       "36                                                 D-Very Low Risk\n",
       "28                                                 C-Very Low Risk\n",
       "23                                                 D-Very Low Risk\n",
       "22                    Not Scored: Sufficient History Not Available\n",
       "20                                                 D-Very Low Risk\n",
       "19               A-Very Low RiskA-Very Low RiskA-Very Low RiskC...\n",
       "18               C-Very Low RiskC-Very Low RiskC-Very Low RiskD...\n",
       "17               A-Very Low RiskC-Very Low RiskC-Very Low RiskD...\n",
       "16                   A-Very Low RiskD-Very Low RiskD-Very Low Risk\n",
       "15               A-Very Low RiskC-Very Low RiskC-Very Low RiskC...\n",
       "14               C-Very Low RiskD-Very Low RiskD-Very Low RiskD...\n",
       "13               A-Very Low RiskC-Very Low RiskC-Very Low RiskC...\n",
       "12               No Bureau History AvailableA-Very Low RiskB-Ve...\n",
       "11               B-Very Low RiskC-Very Low RiskC-Very Low RiskC...\n",
       "10               No Bureau History AvailableA-Very Low RiskA-Ve...\n",
       "9                No Bureau History AvailableNo Bureau History A...\n",
       "8                No Bureau History AvailableNo Bureau History A...\n",
       "7                No Bureau History AvailableNo Bureau History A...\n",
       "6                No Bureau History AvailableNo Bureau History A...\n",
       "5                No Bureau History AvailableNo Bureau History A...\n",
       "4                No Bureau History AvailableNo Bureau History A...\n",
       "3                No Bureau History AvailableNo Bureau History A...\n",
       "2                No Bureau History AvailableNo Bureau History A...\n",
       "1                No Bureau History AvailableNo Bureau History A...\n",
       "0                No Bureau History AvailableNo Bureau History A..."
      ]
     },
     "execution_count": 303,
     "metadata": {},
     "output_type": "execute_result"
    }
   ],
   "source": [
    "x.sort_values('NO_OF_INQUIRIES',ascending=False)"
   ]
  },
  {
   "cell_type": "code",
   "execution_count": 305,
   "id": "a7ee72e6-eee0-436c-bd09-8db54a18da67",
   "metadata": {},
   "outputs": [
    {
     "data": {
      "image/png": "[encoded data removed]",
      "text/plain": [
       "<Figure size 432x288 with 1 Axes>"
      ]
     },
     "metadata": {
      "needs_background": "light"
     },
     "output_type": "display_data"
    }
   ],
   "source": [
    "sns.histplot(data=loan.PERFORM_CNS_SCORE_DESCRIPTION,x=loan.NO_OF_INQUIRIES,kde=True)\n",
    "plt.show()"
   ]
  },
  {
   "cell_type": "code",
   "execution_count": 209,
   "id": "1c7e290a-601e-4c2d-b81b-c1c403837451",
   "metadata": {},
   "outputs": [],
   "source": [
    "# Difference betweenthe sanctioned and disbursedamount of primary loans"
   ]
  },
  {
   "cell_type": "code",
   "execution_count": 306,
   "id": "e31aa2fd-db56-4a84-86fe-2ca19f96c3c9",
   "metadata": {},
   "outputs": [],
   "source": [
    "primary_loan_sanc_disburse_diff=loan.PRI_SANCTIONED_AMOUNT-loan.PRI_DISBURSED_AMOUNT"
   ]
  },
  {
   "cell_type": "code",
   "execution_count": 307,
   "id": "f79bd00d-ac1a-4c04-a9a6-47b93d3178cf",
   "metadata": {},
   "outputs": [
    {
     "data": {
      "text/plain": [
       "0              0\n",
       "1              0\n",
       "2              0\n",
       "3              0\n",
       "4              0\n",
       "           ...  \n",
       "233149         0\n",
       "233150         0\n",
       "233151    110000\n",
       "233152         0\n",
       "233153     -5912\n",
       "Length: 233154, dtype: int64"
      ]
     },
     "execution_count": 307,
     "metadata": {},
     "output_type": "execute_result"
    }
   ],
   "source": [
    "primary_loan_sanc_disburse_diff"
   ]
  },
  {
   "cell_type": "code",
   "execution_count": 212,
   "id": "8f1e4d58-56c4-4017-af8c-0f85beb137ab",
   "metadata": {},
   "outputs": [],
   "source": [
    "# Difference betweenthe sanctioned and disbursedamount of secondary loans"
   ]
  },
  {
   "cell_type": "code",
   "execution_count": 308,
   "id": "372c3d1d-176b-402d-b474-f3c6f6b2bcc8",
   "metadata": {},
   "outputs": [],
   "source": [
    "Secondary_loan_sanc_disburse_diff=loan.SEC_SANCTIONED_AMOUNT-loan.SEC_DISBURSED_AMOUNT"
   ]
  },
  {
   "cell_type": "code",
   "execution_count": 309,
   "id": "2c37ab43-e5ca-45e9-a533-a7bf45285be9",
   "metadata": {},
   "outputs": [
    {
     "data": {
      "text/plain": [
       "0         0\n",
       "1         0\n",
       "2         0\n",
       "3         0\n",
       "4         0\n",
       "         ..\n",
       "233149    0\n",
       "233150    0\n",
       "233151    0\n",
       "233152    0\n",
       "233153    0\n",
       "Length: 233154, dtype: int64"
      ]
     },
     "execution_count": 309,
     "metadata": {},
     "output_type": "execute_result"
    }
   ],
   "source": [
    "Secondary_loan_sanc_disburse_diff"
   ]
  },
  {
   "cell_type": "code",
   "execution_count": 310,
   "id": "4aae33c5-684a-4e15-b09e-178d504399c6",
   "metadata": {},
   "outputs": [
    {
     "data": {
      "image/png": "[encoded data removed]",
      "text/plain": [
       "<Figure size 432x288 with 1 Axes>"
      ]
     },
     "metadata": {
      "needs_background": "light"
     },
     "output_type": "display_data"
    }
   ],
   "source": [
    "y=Secondary_loan_sanc_disburse_diff\n",
    "x=primary_loan_sanc_disburse_diff\n",
    "plt.scatter(y,x,color='b',marker='o',s=200)\n",
    "plt.xlabel('primary_loan_sanc_disburse_diff')\n",
    "plt.ylabel('Secondary_loan_sanc_disburse_diff')\n",
    "plt.show()"
   ]
  },
  {
   "cell_type": "code",
   "execution_count": 331,
   "id": "455bdd0c-6b3f-4e4b-9303-50fcbdd7e860",
   "metadata": {},
   "outputs": [],
   "source": [
    "# Model creation for potential defaulters prediction."
   ]
  },
  {
   "cell_type": "code",
   "execution_count": 311,
   "id": "739acc17-4e89-46ea-b829-88b06b82490c",
   "metadata": {},
   "outputs": [],
   "source": [
    "from sklearn.model_selection import train_test_split\n",
    "from sklearn.preprocessing import StandardScaler\n",
    "from sklearn.linear_model import LogisticRegression\n",
    "from sklearn.metrics import accuracy_score\n",
    "from sklearn.metrics import confusion_matrix\n",
    "from sklearn.metrics import classification_report"
   ]
  },
  {
   "cell_type": "code",
   "execution_count": 312,
   "id": "426796ca-0ebe-4720-8fb3-227a94d573a4",
   "metadata": {},
   "outputs": [],
   "source": [
    "loan_data=pd.DataFrame.from_dict(loan)\n",
    "inp1=loan_data.copy()"
   ]
  },
  {
   "cell_type": "code",
   "execution_count": 313,
   "id": "57937dc9-fb4a-4414-9f30-4cae92eeed3e",
   "metadata": {},
   "outputs": [],
   "source": [
    "inp1=inp1.drop(columns=['Date_of_Birth','Employment_Type','DisbursalDate','PERFORM_CNS_SCORE_DESCRIPTION','Age','AVERAGE_ACCT_AGE','CREDIT_HISTORY_LENGTH'])"
   ]
  },
  {
   "cell_type": "code",
   "execution_count": 314,
   "id": "affa536e-acea-400b-8257-5057e21962ec",
   "metadata": {},
   "outputs": [],
   "source": [
    "y=inp1['loan_default']\n",
    "X=inp1.drop('loan_default',axis=1)"
   ]
  },
  {
   "cell_type": "code",
   "execution_count": 315,
   "id": "277dfe92-b33a-4306-85be-0482f2d834be",
   "metadata": {},
   "outputs": [],
   "source": [
    "scaler=StandardScaler()\n",
    "X=pd.DataFrame(scaler.fit_transform(X))"
   ]
  },
  {
   "cell_type": "code",
   "execution_count": 316,
   "id": "b3eff740-c713-44e9-8bc4-e799b7e712b3",
   "metadata": {},
   "outputs": [],
   "source": [
    "X_train,X_test,y_train,y_test=train_test_split(X,y,test_size=0.2,random_state=42)"
   ]
  },
  {
   "cell_type": "code",
   "execution_count": 317,
   "id": "d2e9f853-dd17-44d9-89cd-b954d8d604ae",
   "metadata": {},
   "outputs": [],
   "source": [
    "model=LogisticRegression()\n",
    "model.fit(X_train,y_train)\n",
    "pred=model.predict(X_test)"
   ]
  },
  {
   "cell_type": "code",
   "execution_count": 318,
   "id": "06f7c02b-e1bf-48bb-8423-b0c5e0131c16",
   "metadata": {},
   "outputs": [
    {
     "data": {
      "text/plain": [
       "0.7869014175119555"
      ]
     },
     "execution_count": 318,
     "metadata": {},
     "output_type": "execute_result"
    }
   ],
   "source": [
    "score=accuracy_score(y_test,pred)\n",
    "score"
   ]
  },
  {
   "cell_type": "code",
   "execution_count": 319,
   "id": "cbfa9d1e-622c-4cfb-bf93-2e8175e8ed77",
   "metadata": {},
   "outputs": [
    {
     "data": {
      "text/plain": [
       "array([[36651,    82],\n",
       "       [ 9855,    43]], dtype=int64)"
      ]
     },
     "execution_count": 319,
     "metadata": {},
     "output_type": "execute_result"
    }
   ],
   "source": [
    "confusion_matrix(y_test,pred)"
   ]
  },
  {
   "cell_type": "code",
   "execution_count": null,
   "id": "39052c0e-d777-4947-abad-962b31972843",
   "metadata": {},
   "outputs": [],
   "source": [
    "# Accuracy = 78.6%\n",
    "# Precision = 78.8%\n",
    "# Recall/Sensitivity = 99.77%\n",
    "# F1 Score = 0.88"
   ]
  }
 ],
 "metadata": {
  "kernelspec": {
   "display_name": "Python 3 (ipykernel)",
   "language": "python",
   "name": "python3"
  },
  "language_info": {
   "codemirror_mode": {
    "name": "ipython",
    "version": 3
   },
   "file_extension": ".py",
   "mimetype": "text/x-python",
   "name": "python",
   "nbconvert_exporter": "python",
   "pygments_lexer": "ipython3",
   "version": "3.9.12"
  }
 },
 "nbformat": 4,
 "nbformat_minor": 5
}
